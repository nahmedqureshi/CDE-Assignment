{
 "cells": [
  {
   "cell_type": "markdown",
   "id": "b0ece247-ae31-44e7-a7dc-462679b1a2bb",
   "metadata": {},
   "source": [
    "## Assignment 2 Python Basics (Conditional Statements)"
   ]
  },
  {
   "cell_type": "code",
   "execution_count": 1,
   "id": "b7157116-de2d-424a-8470-ccb20a6e9dcc",
   "metadata": {},
   "outputs": [],
   "source": [
    "## A company decided to give bonus of 5% to employee if his/her year of service is more than 5 years. \n",
    "## Ask user for their salary and year of service and print the net bonus amount."
   ]
  },
  {
   "cell_type": "code",
   "execution_count": 2,
   "id": "ea15de83-f9ea-489d-881e-7cfccc6a9d77",
   "metadata": {},
   "outputs": [
    {
     "name": "stdin",
     "output_type": "stream",
     "text": [
      "Enter your salary:  45\n",
      "Enter years of service:  6\n"
     ]
    },
    {
     "name": "stdout",
     "output_type": "stream",
     "text": [
      "Net Bonus Amount: 2.25\n",
      "salary with bonus : 47.25\n"
     ]
    }
   ],
   "source": [
    "salary = int(input(\"Enter your salary: \"))\n",
    "service = int(input(\"Enter years of service: \"))\n",
    "\n",
    "if service > 5:\n",
    "    bonus = salary * 0.05\n",
    "    total = salary + bonus\n",
    "    print(\"Net Bonus Amount:\", bonus)\n",
    "    print (\"salary with bonus :\", total)\n",
    "else:\n",
    "    print(\"No Bonus\")"
   ]
  },
  {
   "cell_type": "code",
   "execution_count": 3,
   "id": "b059a1a7-4558-4b94-97b2-784fe107168d",
   "metadata": {},
   "outputs": [],
   "source": [
    "## Write a program to check whether a person is eligible for voting or not. (accept age from user) \n",
    "## if age is greater than 17 eligible otherwise not eligible"
   ]
  },
  {
   "cell_type": "code",
   "execution_count": 4,
   "id": "86772c13-304e-4465-bf63-8a2db1d89658",
   "metadata": {},
   "outputs": [
    {
     "name": "stdin",
     "output_type": "stream",
     "text": [
      "Enter your age:  37\n"
     ]
    },
    {
     "name": "stdout",
     "output_type": "stream",
     "text": [
      "You are eligible to vote.\n"
     ]
    }
   ],
   "source": [
    "age = int(input(\"Enter your age: \"))\n",
    "\n",
    "if age >= 18:\n",
    "    print(\"You are eligible to vote.\")\n",
    "else:\n",
    "    print(\"You are not eligible to vote.\")"
   ]
  },
  {
   "cell_type": "code",
   "execution_count": 5,
   "id": "e5830d17-2fbb-4321-9f3f-605ef7b30c63",
   "metadata": {},
   "outputs": [],
   "source": [
    "# Write a program to check whether a number entered by user is even or odd."
   ]
  },
  {
   "cell_type": "code",
   "execution_count": 6,
   "id": "3eba2b28-8144-42b5-af81-364771ea944c",
   "metadata": {},
   "outputs": [
    {
     "name": "stdin",
     "output_type": "stream",
     "text": [
      "Enter a number:  8\n"
     ]
    },
    {
     "name": "stdout",
     "output_type": "stream",
     "text": [
      "Even Number\n"
     ]
    }
   ],
   "source": [
    "num = int(input(\"Enter a number: \"))\n",
    "\n",
    "if num % 2 == 0:\n",
    "    print(\"Even Number\")\n",
    "else:\n",
    "    print(\"Odd Number\")"
   ]
  },
  {
   "cell_type": "code",
   "execution_count": 7,
   "id": "56ccfa5c-66fd-459a-8533-6a43d3059506",
   "metadata": {},
   "outputs": [],
   "source": [
    "# Write a program to check whether a number is divisible by 7 or not. Show Answer"
   ]
  },
  {
   "cell_type": "code",
   "execution_count": 8,
   "id": "9b117271-6e94-461a-a02f-8fa0bdede781",
   "metadata": {},
   "outputs": [
    {
     "name": "stdin",
     "output_type": "stream",
     "text": [
      "Enter a number:  49\n"
     ]
    },
    {
     "name": "stdout",
     "output_type": "stream",
     "text": [
      "49 is divisible by 7\n"
     ]
    }
   ],
   "source": [
    "num = int(input(\"Enter a number: \"))\n",
    "\n",
    "if num % 7 == 0:\n",
    "    print(num, \"is divisible by 7\")\n",
    "else:\n",
    "    print(num, \"is not divisible by 7\")"
   ]
  },
  {
   "cell_type": "code",
   "execution_count": 9,
   "id": "48021fde-aea6-4fb3-b1e8-55635b4151f7",
   "metadata": {},
   "outputs": [],
   "source": [
    "# Write a program to display \"Hello\" if a number entered by user is a multiple of five , otherwise print \"Bye\"."
   ]
  },
  {
   "cell_type": "code",
   "execution_count": 10,
   "id": "75cfade3-6d1a-4a9b-92e3-d9ffdb7cdf3b",
   "metadata": {},
   "outputs": [
    {
     "name": "stdin",
     "output_type": "stream",
     "text": [
      "Enter a number:  125\n"
     ]
    },
    {
     "name": "stdout",
     "output_type": "stream",
     "text": [
      "Hello\n"
     ]
    }
   ],
   "source": [
    "num = int(input(\"Enter a number: \"))\n",
    "\n",
    "if num % 5 == 0:\n",
    "    print(\"Hello\")\n",
    "else:\n",
    "    print(\"Bye\")"
   ]
  },
  {
   "cell_type": "code",
   "execution_count": 11,
   "id": "43cb47db-0914-4fa6-9c6c-4987d6835b13",
   "metadata": {},
   "outputs": [],
   "source": [
    "# Write a program to display the last digit of a number."
   ]
  },
  {
   "cell_type": "code",
   "execution_count": 12,
   "id": "331b9c2e-bf25-4912-91e7-f92064ba281e",
   "metadata": {},
   "outputs": [
    {
     "name": "stdin",
     "output_type": "stream",
     "text": [
      "Enter a number:  100245\n"
     ]
    },
    {
     "name": "stdout",
     "output_type": "stream",
     "text": [
      "The last digit of 100245 is 5\n"
     ]
    }
   ],
   "source": [
    "number = int(input(\"Enter a number: \"))\n",
    "last_digit = number % 10\n",
    "print(f\"The last digit of {number} is {last_digit}\")"
   ]
  },
  {
   "cell_type": "code",
   "execution_count": 13,
   "id": "9d1dfd98-4665-476e-a27e-6ada66d7fd1c",
   "metadata": {},
   "outputs": [],
   "source": [
    "# Take values of length and breadth of a rectangle from user and print if it is square or rectangle."
   ]
  },
  {
   "cell_type": "code",
   "execution_count": 14,
   "id": "c78dc1f1-aad3-4f93-87bb-a654f71f8b66",
   "metadata": {},
   "outputs": [
    {
     "name": "stdin",
     "output_type": "stream",
     "text": [
      "Enter length:  4\n",
      "Enter breadth:  8\n"
     ]
    },
    {
     "name": "stdout",
     "output_type": "stream",
     "text": [
      "It is a Rectangle\n"
     ]
    }
   ],
   "source": [
    "length = int(input(\"Enter length: \"))\n",
    "breadth = int(input(\"Enter breadth: \"))\n",
    "\n",
    "if length == breadth:\n",
    "    print(\"It is a Square\")\n",
    "else:\n",
    "    print(\"It is a Rectangle\")"
   ]
  },
  {
   "cell_type": "code",
   "execution_count": 15,
   "id": "8e9ee367-bd5d-4bf4-b500-200dd276be29",
   "metadata": {},
   "outputs": [],
   "source": [
    "#Take two int values from user and print greatest among them."
   ]
  },
  {
   "cell_type": "code",
   "execution_count": 16,
   "id": "b5caa579-cbf6-4d6c-82bf-185f43deb3b1",
   "metadata": {},
   "outputs": [
    {
     "name": "stdin",
     "output_type": "stream",
     "text": [
      "Enter first number:  25\n",
      "Enter second number:  85\n"
     ]
    },
    {
     "name": "stdout",
     "output_type": "stream",
     "text": [
      "Greatest: 85.0\n"
     ]
    }
   ],
   "source": [
    "a = float(input(\"Enter first number: \"))\n",
    "b = float(input(\"Enter second number: \"))\n",
    "\n",
    "if a > b:\n",
    "    print(\"Greatest:\", a)\n",
    "else:\n",
    "    print(\"Greatest:\", b)"
   ]
  },
  {
   "cell_type": "code",
   "execution_count": 17,
   "id": "e137f676-8692-442d-b8eb-74da183f8580",
   "metadata": {},
   "outputs": [],
   "source": [
    "# A shop will give discount of 10% if the cost of purchased quantity is more than 1000.\n",
    "# Ask user for quantity Suppose, one unit will cost 100. Judge and print total cost for user."
   ]
  },
  {
   "cell_type": "code",
   "execution_count": 18,
   "id": "9aff218d-ddbf-429d-ac30-3de0c73a6700",
   "metadata": {},
   "outputs": [
    {
     "name": "stdin",
     "output_type": "stream",
     "text": [
      "Enter quantity:  40\n"
     ]
    },
    {
     "name": "stdout",
     "output_type": "stream",
     "text": [
      "Total Cost: 3600.0\n"
     ]
    }
   ],
   "source": [
    "quantity = int(input(\"Enter quantity: \"))\n",
    "cost = quantity * 100\n",
    "\n",
    "if cost > 1000:\n",
    "    cost = cost - (cost * 0.10)\n",
    "\n",
    "print(\"Total Cost:\", cost)"
   ]
  },
  {
   "cell_type": "code",
   "execution_count": 19,
   "id": "12c24dc2-d01f-4ca3-9d48-0097af8117c3",
   "metadata": {},
   "outputs": [],
   "source": [
    "#A school has following rules for grading system:\n",
    "#a. Below 25 - F         b. 25 to 45 - E\n",
    "#c. 45 to 50 - D         d. 50 to 60 - C\n",
    "#e. 60 to 80 - B         f. Above 80 - A\n",
    "\n",
    "#Ask user to enter marks and print the corresponding grade."
   ]
  },
  {
   "cell_type": "code",
   "execution_count": 20,
   "id": "2201b7c6-9b29-4a8a-866a-34925286fe1b",
   "metadata": {},
   "outputs": [
    {
     "name": "stdin",
     "output_type": "stream",
     "text": [
      "Enter your marks:  85.5\n"
     ]
    },
    {
     "name": "stdout",
     "output_type": "stream",
     "text": [
      "Grade: A\n"
     ]
    }
   ],
   "source": [
    "marks = float(input(\"Enter your marks: \"))\n",
    "\n",
    "if marks < 25:\n",
    "    grade = \"F\"\n",
    "elif marks < 45:\n",
    "    grade = \"E\"\n",
    "elif marks < 50:\n",
    "    grade = \"D\"\n",
    "elif marks < 60:\n",
    "    grade = \"C\"\n",
    "elif marks < 80:\n",
    "    grade = \"B\"\n",
    "else:\n",
    "    grade = \"A\"\n",
    "\n",
    "print(\"Grade:\", grade)"
   ]
  },
  {
   "cell_type": "code",
   "execution_count": 21,
   "id": "dda739aa-5c85-4682-bb18-456a9ae48349",
   "metadata": {},
   "outputs": [],
   "source": [
    "# A student will not be allowed to sit in exam if his/her attendence is less than 75%.\n",
    "# Take following input from user\n",
    "# Number of classes held\n",
    "# Number of classes attended.\n",
    "# And print\n",
    "# percentage of class attended\n",
    "# Is student is allowed to sit in exam or not."
   ]
  },
  {
   "cell_type": "code",
   "execution_count": 22,
   "id": "ce98e8f0-47d8-4314-a36b-7fb382f2d7d9",
   "metadata": {},
   "outputs": [
    {
     "name": "stdin",
     "output_type": "stream",
     "text": [
      "Enter number of classes held:  100\n",
      "Enter number of classes attended:  85\n"
     ]
    },
    {
     "name": "stdout",
     "output_type": "stream",
     "text": [
      "Attendance Percentage: 85.0 %\n",
      "Allowed to sit in exam\n"
     ]
    }
   ],
   "source": [
    "classes_held = int(input(\"Enter number of classes held: \"))\n",
    "classes_attended = int(input(\"Enter number of classes attended: \"))\n",
    "\n",
    "percentage = (classes_attended / classes_held) * 100\n",
    "print(\"Attendance Percentage:\", percentage, \"%\")\n",
    "\n",
    "if percentage >= 75:\n",
    "    print(\"Allowed to sit in exam\")\n",
    "else:\n",
    "    print(\"Not allowed to sit in exam\")"
   ]
  },
  {
   "cell_type": "code",
   "execution_count": 23,
   "id": "a056b348-6594-4ad6-915c-e28ec37856de",
   "metadata": {},
   "outputs": [],
   "source": [
    "# Modify the above question to allow student to sit if he/she has medical cause.\n",
    "# Ask user if he/she has medical cause or not ( 'Y' or 'N' ) and print accordingly."
   ]
  },
  {
   "cell_type": "code",
   "execution_count": 24,
   "id": "5ba66ce3-eb3e-4560-877a-c04fc53a5a18",
   "metadata": {},
   "outputs": [
    {
     "name": "stdin",
     "output_type": "stream",
     "text": [
      "Enter number of classes held:  50\n",
      "Enter number of classes attended:  30\n",
      "Do you have medical cause? (Y/N):  Y\n"
     ]
    },
    {
     "name": "stdout",
     "output_type": "stream",
     "text": [
      "Attendance Percentage: 60.0 %\n",
      "Allowed to sit in exam\n"
     ]
    }
   ],
   "source": [
    "classes_held = int(input(\"Enter number of classes held: \"))\n",
    "classes_attended = int(input(\"Enter number of classes attended: \"))\n",
    "medical = input(\"Do you have medical cause? (Y/N): \")\n",
    "\n",
    "percentage = (classes_attended / classes_held) * 100\n",
    "print(\"Attendance Percentage:\", percentage, \"%\")\n",
    "\n",
    "if percentage >= 75 or medical.upper() == \"Y\":\n",
    "    print(\"Allowed to sit in exam\")\n",
    "else:\n",
    "    print(\"Not allowed to sit in exam\")"
   ]
  },
  {
   "cell_type": "code",
   "execution_count": 25,
   "id": "40dde762-b879-4d7d-9643-c03a26411a0d",
   "metadata": {},
   "outputs": [],
   "source": [
    "# Write a program to check if a year is leap year or not.\n",
    "# If a year is divisible by 4 then it is leap year but \n",
    "# if the year is century year like 2000, 1900, 2100 then it must be divisible by 400."
   ]
  },
  {
   "cell_type": "code",
   "execution_count": 26,
   "id": "e7b6ce24-2a22-4f61-b777-7a04226dacf7",
   "metadata": {},
   "outputs": [
    {
     "name": "stdin",
     "output_type": "stream",
     "text": [
      "Enter year:  2024\n"
     ]
    },
    {
     "name": "stdout",
     "output_type": "stream",
     "text": [
      "2024 is a Leap Year\n"
     ]
    }
   ],
   "source": [
    "year = int(input(\"Enter year: \"))\n",
    "\n",
    "if (year % 4 == 0 and year % 100 != 0) or (year % 400 == 0):\n",
    "    print(year, \"is a Leap Year\")\n",
    "else:\n",
    "    print(year, \"is not a Leap Year\")"
   ]
  },
  {
   "cell_type": "code",
   "execution_count": 27,
   "id": "68e181c4-ae0a-4811-933d-f487895b8a4f",
   "metadata": {},
   "outputs": [],
   "source": [
    "# Ask user to enter age, gender ( M or F ), marital status ( Y or N ) and then using following rules print their place of service.\n",
    "# if employee is female, then she will work only in urban areas.\n",
    "#if employee is a male and age is in between 20 to 40 then he may work in anywhere\n",
    "# if employee is male and age is in between 40 t0 60 then he will work in urban areas only.\n",
    "# And any other input of age should print \"ERROR\""
   ]
  },
  {
   "cell_type": "code",
   "execution_count": 28,
   "id": "18d6a874-b9cc-43e1-a266-d5de70af131e",
   "metadata": {},
   "outputs": [
    {
     "name": "stdin",
     "output_type": "stream",
     "text": [
      "Enter age:  37\n",
      "Enter gender (M/F):  M\n",
      "Marital status (Y/N):  Y\n"
     ]
    },
    {
     "name": "stdout",
     "output_type": "stream",
     "text": [
      "Can work anywhere\n"
     ]
    }
   ],
   "source": [
    "age = int(input(\"Enter age: \"))\n",
    "gender = input(\"Enter gender (M/F): \").upper()\n",
    "marital_status = input(\"Marital status (Y/N): \").upper()\n",
    "\n",
    "if gender == \"F\":\n",
    "    print(\"Works only in urban areas\")\n",
    "elif gender == \"M\" and 20 <= age <= 40:\n",
    "    print(\"Can work anywhere\")\n",
    "elif gender == \"M\" and 40 < age <= 60:\n",
    "    print(\"Works only in urban areas\")\n",
    "else:\n",
    "    print(\"ERROR\")"
   ]
  },
  {
   "cell_type": "code",
   "execution_count": 29,
   "id": "2f12f22b-f435-4ce6-bbde-d70e87a78a9f",
   "metadata": {},
   "outputs": [],
   "source": [
    "# Write a program to calculate the electricity bill (accept number of unit from user) \n",
    "# according to the following criteria : Unit Price\n",
    "# uptp 100 units no charge Next 200 units Rs 5 per unit \n",
    "# After 200 units Rs 10 per unit (For example if input unit is 350 than total bill amount is Rs.3500 \n",
    "# (For example if input unit is 97 than total bill amount is Rs.0 (For example if input unit is 150 than total bill amount is Rs.750"
   ]
  },
  {
   "cell_type": "code",
   "execution_count": 31,
   "id": "47ddd080-12fb-4a03-9521-fa8599a852f1",
   "metadata": {},
   "outputs": [
    {
     "name": "stdin",
     "output_type": "stream",
     "text": [
      "Enter units consumed:  325\n"
     ]
    },
    {
     "name": "stdout",
     "output_type": "stream",
     "text": [
      "Total Bill = Rs. 1250\n"
     ]
    }
   ],
   "source": [
    "units = int(input(\"Enter units consumed: \"))\n",
    "\n",
    "if units <= 100:\n",
    "    bill = 0\n",
    "elif units <= 300:\n",
    "    bill = (units - 100) * 5\n",
    "else:\n",
    "    bill = (200 * 5) + (units - 300) * 10\n",
    "\n",
    "print(\"Total Bill = Rs.\", bill)"
   ]
  },
  {
   "cell_type": "code",
   "execution_count": 32,
   "id": "6abf8f71-469c-4ba1-aa1b-7cff19793cc2",
   "metadata": {},
   "outputs": [],
   "source": [
    "# Take input of age of 3 people by user and determine oldest and youngest among them"
   ]
  },
  {
   "cell_type": "code",
   "execution_count": 33,
   "id": "b3e8481e-170f-4820-b160-ebeaba94fa0c",
   "metadata": {},
   "outputs": [
    {
     "name": "stdin",
     "output_type": "stream",
     "text": [
      "Enter age of first person:  18\n",
      "Enter age of second person:  20\n",
      "Enter age of third person:  16\n"
     ]
    },
    {
     "name": "stdout",
     "output_type": "stream",
     "text": [
      "Oldest: 20\n",
      "Youngest: 16\n"
     ]
    }
   ],
   "source": [
    "a = int(input(\"Enter age of first person: \"))\n",
    "b = int(input(\"Enter age of second person: \"))\n",
    "c = int(input(\"Enter age of third person: \"))\n",
    "\n",
    "oldest = max(a, b, c)\n",
    "youngest = min(a, b, c)\n",
    "\n",
    "print(\"Oldest:\", oldest)\n",
    "print(\"Youngest:\", youngest)"
   ]
  },
  {
   "cell_type": "code",
   "execution_count": null,
   "id": "d73c9d32-b3c4-403c-a4ee-a43e0e74cff5",
   "metadata": {},
   "outputs": [],
   "source": []
  }
 ],
 "metadata": {
  "kernelspec": {
   "display_name": "Python [conda env:base] *",
   "language": "python",
   "name": "conda-base-py"
  },
  "language_info": {
   "codemirror_mode": {
    "name": "ipython",
    "version": 3
   },
   "file_extension": ".py",
   "mimetype": "text/x-python",
   "name": "python",
   "nbconvert_exporter": "python",
   "pygments_lexer": "ipython3",
   "version": "3.13.5"
  }
 },
 "nbformat": 4,
 "nbformat_minor": 5
}
