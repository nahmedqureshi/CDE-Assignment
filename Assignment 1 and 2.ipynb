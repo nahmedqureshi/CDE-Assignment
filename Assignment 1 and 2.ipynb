{
 "cells": [
  {
   "cell_type": "markdown",
   "id": "d9071826-fadb-4644-843f-58578e8516cc",
   "metadata": {},
   "source": [
    "## Assignment 01"
   ]
  },
  {
   "cell_type": "code",
   "execution_count": 1,
   "id": "74f8a51e-bf3a-4bdc-a5b7-e6cb5821d9e1",
   "metadata": {},
   "outputs": [],
   "source": [
    "# Print Your Name with your Father name and Date of birth using suitable escape sequence charactor"
   ]
  },
  {
   "cell_type": "code",
   "execution_count": 23,
   "id": "400d231a-c4c1-4a6e-8c5f-8ac3e6162a49",
   "metadata": {},
   "outputs": [
    {
     "name": "stdout",
     "output_type": "stream",
     "text": [
      "Name:\tNoman Qureshi\n",
      "Father's Name:\tMr.Riaz Ahmed Qureshi\n",
      "Date of Birth:\t08-09-1987\n"
     ]
    }
   ],
   "source": [
    "print(\"Name:\\tNoman Qureshi\\nFather's Name:\\tMr.Riaz Ahmed Qureshi\\nDate of Birth:\\t08-09-1987\")"
   ]
  },
  {
   "cell_type": "code",
   "execution_count": 2,
   "id": "8b316c9f-f978-497d-83ff-580dce7ce0d9",
   "metadata": {},
   "outputs": [],
   "source": [
    "# Write your small bio using variables and print it using print function"
   ]
  },
  {
   "cell_type": "code",
   "execution_count": 24,
   "id": "eba2ef90-f9bb-4d45-9d31-d78819a1d5ad",
   "metadata": {},
   "outputs": [
    {
     "name": "stdout",
     "output_type": "stream",
     "text": [
      "My name is Noman Qureshi\n",
      "I am 36 years old\n",
      "I work as a Broadcast Engineer\n",
      "My hobby is Technology & Reading\n"
     ]
    }
   ],
   "source": [
    "name = \"Noman Qureshi\"\n",
    "age = 36\n",
    "profession = \"Broadcast Engineer\"\n",
    "hobby = \"Technology & Reading\"\n",
    "\n",
    "print(\"My name is\", name)\n",
    "print(\"I am\", age, \"years old\")\n",
    "print(\"I work as a\", profession)\n",
    "print(\"My hobby is\", hobby)"
   ]
  },
  {
   "cell_type": "code",
   "execution_count": 3,
   "id": "8d7eae92-1c9f-4621-832c-e654985b66d5",
   "metadata": {},
   "outputs": [],
   "source": [
    "# Write a program in which use all the operators we can use in Python"
   ]
  },
  {
   "cell_type": "code",
   "execution_count": 25,
   "id": "98f69061-7cc4-457f-bada-0f43566666de",
   "metadata": {},
   "outputs": [
    {
     "name": "stdout",
     "output_type": "stream",
     "text": [
      "Addition: 13\n",
      "Subtraction: 7\n",
      "Multiplication: 30\n",
      "Division: 3.3333333333333335\n",
      "Modulus: 1\n",
      "Exponent: 1000\n",
      "a > b: True\n",
      "a < b: False\n",
      "a == b: False\n",
      "a != b: True\n",
      "a > 5 and b < 5: True\n",
      "a > 15 or b < 5: True\n"
     ]
    }
   ],
   "source": [
    "a = 10\n",
    "b = 3\n",
    "\n",
    "# Arithmetic Operators\n",
    "print(\"Addition:\", a + b)\n",
    "print(\"Subtraction:\", a - b)\n",
    "print(\"Multiplication:\", a * b)\n",
    "print(\"Division:\", a / b)\n",
    "print(\"Modulus:\", a % b)\n",
    "print(\"Exponent:\", a ** b)\n",
    "\n",
    "# Comparison Operators\n",
    "print(\"a > b:\", a > b)\n",
    "print(\"a < b:\", a < b)\n",
    "print(\"a == b:\", a == b)\n",
    "print(\"a != b:\", a != b)\n",
    "\n",
    "# Logical Operators\n",
    "print(\"a > 5 and b < 5:\", a > 5 and b < 5)\n",
    "print(\"a > 15 or b < 5:\", a > 15 or b < 5)"
   ]
  },
  {
   "cell_type": "code",
   "execution_count": 6,
   "id": "963aafea-7bd5-448b-9f58-a15208367388",
   "metadata": {},
   "outputs": [
    {
     "name": "stdout",
     "output_type": "stream",
     "text": [
      "Enter numbers obtained in English out of 100\n"
     ]
    },
    {
     "name": "stdin",
     "output_type": "stream",
     "text": [
      "None 85\n"
     ]
    },
    {
     "name": "stdout",
     "output_type": "stream",
     "text": [
      "Enter numbers obtained in Islamiat out of 100\n"
     ]
    },
    {
     "name": "stdin",
     "output_type": "stream",
     "text": [
      "None 95\n"
     ]
    },
    {
     "name": "stdout",
     "output_type": "stream",
     "text": [
      "Enter numbers obtained in Maths out of 100\n"
     ]
    },
    {
     "name": "stdin",
     "output_type": "stream",
     "text": [
      "None 95\n"
     ]
    },
    {
     "name": "stdout",
     "output_type": "stream",
     "text": [
      "Total Marks: 300\n",
      "Obtained Marks: 275\n",
      "Percentage: 91.66666666666666 %\n"
     ]
    }
   ],
   "source": [
    "english = int(input(print(\"Enter numbers obtained in English out of 100\")))\n",
    "islamiat = int(input(print(\"Enter numbers obtained in Islamiat out of 100\")))\n",
    "maths = int(input(print(\"Enter numbers obtained in Maths out of 100\")))\n",
    "\n",
    "total_marks = 300\n",
    "obtained = english + islamiat + maths\n",
    "percentage = (obtained / total_marks) * 100\n",
    "\n",
    "print(\"Total Marks:\", total_marks)\n",
    "print(\"Obtained Marks:\", obtained)\n",
    "print(\"Percentage:\", percentage, \"%\")"
   ]
  },
  {
   "cell_type": "markdown",
   "id": "576169b5-9750-450d-9933-3786b14c4c1a",
   "metadata": {},
   "source": []
  },
  {
   "cell_type": "markdown",
   "id": "e89f17f0-952c-4a8e-89ce-234d7956a3c2",
   "metadata": {},
   "source": [
    "## Assignment 2 Python Basics (Conditional Statements)"
   ]
  },
  {
   "cell_type": "code",
   "execution_count": null,
   "id": "260460f3-5152-4bf9-b09e-13166f46d323",
   "metadata": {},
   "outputs": [],
   "source": [
    "## A company decided to give bonus of 5% to employee if his/her year of service is more than 5 years. \n",
    "## Ask user for their salary and year of service and print the net bonus amount."
   ]
  },
  {
   "cell_type": "code",
   "execution_count": 18,
   "id": "9e54cff1-9f72-41eb-8e3a-f183b36a05c0",
   "metadata": {},
   "outputs": [
    {
     "name": "stdin",
     "output_type": "stream",
     "text": [
      "Enter your salary:  5\n",
      "Enter years of service:  6\n"
     ]
    },
    {
     "name": "stdout",
     "output_type": "stream",
     "text": [
      "Net Bonus Amount: 0.25\n",
      "salary with bonus : 5.25\n"
     ]
    }
   ],
   "source": [
    "salary = int(input(\"Enter your salary: \"))\n",
    "service = int(input(\"Enter years of service: \"))\n",
    "\n",
    "if service > 5:\n",
    "    bonus = salary * 0.05\n",
    "    total = salary + bonus\n",
    "    print(\"Net Bonus Amount:\", bonus)\n",
    "    print (\"salary with bonus :\", total)\n",
    "else:\n",
    "    print(\"No Bonus\")"
   ]
  },
  {
   "cell_type": "code",
   "execution_count": null,
   "id": "6d6e028f-745e-46d4-abd1-7087e5863d7f",
   "metadata": {},
   "outputs": [],
   "source": [
    "## Write a program to check whether a person is eligible for voting or not. (accept age from user) \n",
    "## if age is greater than 17 eligible otherwise not eligible"
   ]
  },
  {
   "cell_type": "code",
   "execution_count": 19,
   "id": "4217b04c-8447-4119-8f1d-e7802bcfb0c9",
   "metadata": {},
   "outputs": [
    {
     "name": "stdin",
     "output_type": "stream",
     "text": [
      "Enter your age:  20\n"
     ]
    },
    {
     "name": "stdout",
     "output_type": "stream",
     "text": [
      "You are eligible to vote.\n"
     ]
    }
   ],
   "source": [
    "age = int(input(\"Enter your age: \"))\n",
    "\n",
    "if age >= 18:\n",
    "    print(\"You are eligible to vote.\")\n",
    "else:\n",
    "    print(\"You are not eligible to vote.\")"
   ]
  },
  {
   "cell_type": "code",
   "execution_count": null,
   "id": "0096b8cb-52d3-4e01-a0be-6efe516e11ee",
   "metadata": {},
   "outputs": [],
   "source": [
    "# Write a program to check whether a number entered by user is even or odd."
   ]
  },
  {
   "cell_type": "code",
   "execution_count": 21,
   "id": "2f7c0e86-f8b5-44f5-b862-3f85d35da919",
   "metadata": {},
   "outputs": [
    {
     "name": "stdin",
     "output_type": "stream",
     "text": [
      "Enter a number:  5\n"
     ]
    },
    {
     "name": "stdout",
     "output_type": "stream",
     "text": [
      "Odd Number\n"
     ]
    }
   ],
   "source": [
    "num = int(input(\"Enter a number: \"))\n",
    "\n",
    "if num % 2 == 0:\n",
    "    print(\"Even Number\")\n",
    "else:\n",
    "    print(\"Odd Number\")"
   ]
  },
  {
   "cell_type": "code",
   "execution_count": null,
   "id": "3ec64e14-de40-4dd8-8932-05a8a14c1cb5",
   "metadata": {},
   "outputs": [],
   "source": [
    "# Write a program to check whether a number is divisible by 7 or not. Show Answer"
   ]
  },
  {
   "cell_type": "code",
   "execution_count": 28,
   "id": "e0af227d-0194-486d-9698-458327a85333",
   "metadata": {},
   "outputs": [
    {
     "name": "stdin",
     "output_type": "stream",
     "text": [
      "Enter a number:  48\n"
     ]
    },
    {
     "name": "stdout",
     "output_type": "stream",
     "text": [
      "48 is not divisible by 7\n"
     ]
    }
   ],
   "source": [
    "num = int(input(\"Enter a number: \"))\n",
    "\n",
    "if num % 7 == 0:\n",
    "    print(num, \"is divisible by 7\")\n",
    "else:\n",
    "    print(num, \"is not divisible by 7\")"
   ]
  },
  {
   "cell_type": "code",
   "execution_count": null,
   "id": "a720c0fa-2497-4c91-89f7-e3f8fb3d22e9",
   "metadata": {},
   "outputs": [],
   "source": [
    "# Write a program to display \"Hello\" if a number entered by user is a multiple of five , otherwise print \"Bye\"."
   ]
  },
  {
   "cell_type": "code",
   "execution_count": 31,
   "id": "cbfe702a-0da8-4a34-9de1-f67a6a8ccc2d",
   "metadata": {},
   "outputs": [
    {
     "name": "stdin",
     "output_type": "stream",
     "text": [
      "Enter a number:  100\n"
     ]
    },
    {
     "name": "stdout",
     "output_type": "stream",
     "text": [
      "Hello\n"
     ]
    }
   ],
   "source": [
    "num = int(input(\"Enter a number: \"))\n",
    "\n",
    "if num % 5 == 0:\n",
    "    print(\"Hello\")\n",
    "else:\n",
    "    print(\"Bye\")"
   ]
  },
  {
   "cell_type": "code",
   "execution_count": null,
   "id": "e508a714-a048-478b-a440-b9fa66260d18",
   "metadata": {},
   "outputs": [],
   "source": [
    "# Write a program to display the last digit of a number."
   ]
  },
  {
   "cell_type": "code",
   "execution_count": 7,
   "id": "0e13fcad-7de8-41ee-a787-7e4d7d4e5ebd",
   "metadata": {},
   "outputs": [
    {
     "name": "stdin",
     "output_type": "stream",
     "text": [
      "Enter a number:  25874256\n"
     ]
    },
    {
     "name": "stdout",
     "output_type": "stream",
     "text": [
      "The last digit of 25874256 is 6\n"
     ]
    }
   ],
   "source": [
    "number = int(input(\"Enter a number: \"))\n",
    "last_digit = number % 10\n",
    "print(f\"The last digit of {number} is {last_digit}\")"
   ]
  },
  {
   "cell_type": "code",
   "execution_count": null,
   "id": "9c70ed30-d3f7-43fb-8b15-d8f18003200a",
   "metadata": {},
   "outputs": [],
   "source": [
    "# Take values of length and breadth of a rectangle from user and print if it is square or rectangle."
   ]
  },
  {
   "cell_type": "code",
   "execution_count": 33,
   "id": "67d27985-9229-4c68-9f84-da27563b0cdf",
   "metadata": {},
   "outputs": [
    {
     "name": "stdin",
     "output_type": "stream",
     "text": [
      "Enter length:  10\n",
      "Enter breadth:  11\n"
     ]
    },
    {
     "name": "stdout",
     "output_type": "stream",
     "text": [
      "It is a Rectangle\n"
     ]
    }
   ],
   "source": [
    "length = int(input(\"Enter length: \"))\n",
    "breadth = int(input(\"Enter breadth: \"))\n",
    "\n",
    "if length == breadth:\n",
    "    print(\"It is a Square\")\n",
    "else:\n",
    "    print(\"It is a Rectangle\")"
   ]
  },
  {
   "cell_type": "code",
   "execution_count": null,
   "id": "573a2ab5-daf8-407e-a6dc-344fc4890122",
   "metadata": {},
   "outputs": [],
   "source": [
    "Take two int values from user and print greatest among them."
   ]
  },
  {
   "cell_type": "code",
   "execution_count": 36,
   "id": "3853f0da-371a-4c07-a165-103232e4d206",
   "metadata": {},
   "outputs": [
    {
     "name": "stdin",
     "output_type": "stream",
     "text": [
      "Enter first number:  20.5\n",
      "Enter second number:  20.4\n"
     ]
    },
    {
     "name": "stdout",
     "output_type": "stream",
     "text": [
      "Greatest: 20.5\n"
     ]
    }
   ],
   "source": [
    "a = float(input(\"Enter first number: \"))\n",
    "b = float(input(\"Enter second number: \"))\n",
    "\n",
    "if a > b:\n",
    "    print(\"Greatest:\", a)\n",
    "else:\n",
    "    print(\"Greatest:\", b)"
   ]
  },
  {
   "cell_type": "code",
   "execution_count": null,
   "id": "38c1faed-68b4-4f38-a7ee-02aa0c339fcc",
   "metadata": {},
   "outputs": [],
   "source": [
    "# A shop will give discount of 10% if the cost of purchased quantity is more than 1000.\n",
    "# Ask user for quantity Suppose, one unit will cost 100. Judge and print total cost for user."
   ]
  },
  {
   "cell_type": "code",
   "execution_count": 39,
   "id": "30f09d2c-b377-48e9-9fbd-67a3656485d9",
   "metadata": {},
   "outputs": [
    {
     "name": "stdin",
     "output_type": "stream",
     "text": [
      "Enter quantity:  1000\n"
     ]
    },
    {
     "name": "stdout",
     "output_type": "stream",
     "text": [
      "Total Cost: 90000.0\n"
     ]
    }
   ],
   "source": [
    "quantity = int(input(\"Enter quantity: \"))\n",
    "cost = quantity * 100\n",
    "\n",
    "if cost > 1000:\n",
    "    cost = cost - (cost * 0.10)\n",
    "\n",
    "print(\"Total Cost:\", cost)"
   ]
  },
  {
   "cell_type": "code",
   "execution_count": 11,
   "id": "99abbdda-1b7a-4b8f-8b60-0ece78644301",
   "metadata": {},
   "outputs": [],
   "source": [
    "#A school has following rules for grading system:\n",
    "#a. Below 25 - F         b. 25 to 45 - E\n",
    "#c. 45 to 50 - D         d. 50 to 60 - C\n",
    "#e. 60 to 80 - B         f. Above 80 - A\n",
    "\n",
    "#Ask user to enter marks and print the corresponding grade."
   ]
  },
  {
   "cell_type": "code",
   "execution_count": 42,
   "id": "de54b0d8-d0f3-4986-a365-cf68312bc861",
   "metadata": {},
   "outputs": [
    {
     "name": "stdin",
     "output_type": "stream",
     "text": [
      "Enter your marks:  90.5\n"
     ]
    },
    {
     "name": "stdout",
     "output_type": "stream",
     "text": [
      "Grade: A\n"
     ]
    }
   ],
   "source": [
    "marks = float(input(\"Enter your marks: \"))\n",
    "\n",
    "if marks < 25:\n",
    "    grade = \"F\"\n",
    "elif marks < 45:\n",
    "    grade = \"E\"\n",
    "elif marks < 50:\n",
    "    grade = \"D\"\n",
    "elif marks < 60:\n",
    "    grade = \"C\"\n",
    "elif marks < 80:\n",
    "    grade = \"B\"\n",
    "else:\n",
    "    grade = \"A\"\n",
    "\n",
    "print(\"Grade:\", grade)"
   ]
  },
  {
   "cell_type": "code",
   "execution_count": null,
   "id": "3c4f61ba-a23c-41c4-ad5c-a21dbf0d62c2",
   "metadata": {},
   "outputs": [],
   "source": [
    "# A student will not be allowed to sit in exam if his/her attendence is less than 75%.\n",
    "# Take following input from user\n",
    "# Number of classes held\n",
    "# Number of classes attended.\n",
    "# And print\n",
    "# percentage of class attended\n",
    "# Is student is allowed to sit in exam or not."
   ]
  },
  {
   "cell_type": "code",
   "execution_count": 43,
   "id": "8f0359c0-58e3-4087-8173-635007aa39be",
   "metadata": {},
   "outputs": [
    {
     "name": "stdin",
     "output_type": "stream",
     "text": [
      "Enter number of classes held:  75\n",
      "Enter number of classes attended:  70\n"
     ]
    },
    {
     "name": "stdout",
     "output_type": "stream",
     "text": [
      "Attendance Percentage: 93.33333333333333 %\n",
      "Allowed to sit in exam\n"
     ]
    }
   ],
   "source": [
    "classes_held = int(input(\"Enter number of classes held: \"))\n",
    "classes_attended = int(input(\"Enter number of classes attended: \"))\n",
    "\n",
    "percentage = (classes_attended / classes_held) * 100\n",
    "print(\"Attendance Percentage:\", percentage, \"%\")\n",
    "\n",
    "if percentage >= 75:\n",
    "    print(\"Allowed to sit in exam\")\n",
    "else:\n",
    "    print(\"Not allowed to sit in exam\")"
   ]
  },
  {
   "cell_type": "code",
   "execution_count": null,
   "id": "508e21e7-5480-4321-bd0d-212fa90d8c9a",
   "metadata": {},
   "outputs": [],
   "source": [
    "# Modify the above question to allow student to sit if he/she has medical cause.\n",
    "# Ask user if he/she has medical cause or not ( 'Y' or 'N' ) and print accordingly."
   ]
  },
  {
   "cell_type": "code",
   "execution_count": 44,
   "id": "92688b25-683b-4530-b173-25f3f7cb3477",
   "metadata": {},
   "outputs": [
    {
     "name": "stdin",
     "output_type": "stream",
     "text": [
      "Enter number of classes held:  75\n",
      "Enter number of classes attended:  70\n",
      "Do you have medical cause? (Y/N):  Y\n"
     ]
    },
    {
     "name": "stdout",
     "output_type": "stream",
     "text": [
      "Attendance Percentage: 93.33333333333333 %\n",
      "Allowed to sit in exam\n"
     ]
    }
   ],
   "source": [
    "classes_held = int(input(\"Enter number of classes held: \"))\n",
    "classes_attended = int(input(\"Enter number of classes attended: \"))\n",
    "medical = input(\"Do you have medical cause? (Y/N): \")\n",
    "\n",
    "percentage = (classes_attended / classes_held) * 100\n",
    "print(\"Attendance Percentage:\", percentage, \"%\")\n",
    "\n",
    "if percentage >= 75 or medical.upper() == \"Y\":\n",
    "    print(\"Allowed to sit in exam\")\n",
    "else:\n",
    "    print(\"Not allowed to sit in exam\")"
   ]
  },
  {
   "cell_type": "code",
   "execution_count": null,
   "id": "b84948a2-41a8-455d-8cde-8b85aa9b4873",
   "metadata": {},
   "outputs": [],
   "source": [
    "# Write a program to check if a year is leap year or not.\n",
    "# If a year is divisible by 4 then it is leap year but \n",
    "# if the year is century year like 2000, 1900, 2100 then it must be divisible by 400."
   ]
  },
  {
   "cell_type": "code",
   "execution_count": 51,
   "id": "7b75a2a6-6e7c-4d72-bdfc-ae9b97a767f0",
   "metadata": {},
   "outputs": [
    {
     "name": "stdin",
     "output_type": "stream",
     "text": [
      "Enter year:  2026\n"
     ]
    },
    {
     "name": "stdout",
     "output_type": "stream",
     "text": [
      "2026 is not a Leap Year\n"
     ]
    }
   ],
   "source": [
    "year = int(input(\"Enter year: \"))\n",
    "\n",
    "if (year % 4 == 0 and year % 100 != 0) or (year % 400 == 0):\n",
    "    print(year, \"is a Leap Year\")\n",
    "else:\n",
    "    print(year, \"is not a Leap Year\")"
   ]
  },
  {
   "cell_type": "code",
   "execution_count": null,
   "id": "734752a3-a677-4bd2-bea9-d1ea338c72cc",
   "metadata": {},
   "outputs": [],
   "source": [
    "# Ask user to enter age, gender ( M or F ), marital status ( Y or N ) and then using following rules print their place of service.\n",
    "# if employee is female, then she will work only in urban areas.\n",
    "#if employee is a male and age is in between 20 to 40 then he may work in anywhere\n",
    "# if employee is male and age is in between 40 t0 60 then he will work in urban areas only.\n",
    "# And any other input of age should print \"ERROR\""
   ]
  },
  {
   "cell_type": "code",
   "execution_count": 52,
   "id": "760690e4-90e1-4f65-a926-6eb0b451b1d8",
   "metadata": {},
   "outputs": [
    {
     "name": "stdin",
     "output_type": "stream",
     "text": [
      "Enter age:  40\n",
      "Enter gender (M/F):  F\n",
      "Marital status (Y/N):  Y\n"
     ]
    },
    {
     "name": "stdout",
     "output_type": "stream",
     "text": [
      "Works only in urban areas\n"
     ]
    }
   ],
   "source": [
    "age = int(input(\"Enter age: \"))\n",
    "gender = input(\"Enter gender (M/F): \").upper()\n",
    "marital_status = input(\"Marital status (Y/N): \").upper()\n",
    "\n",
    "if gender == \"F\":\n",
    "    print(\"Works only in urban areas\")\n",
    "elif gender == \"M\" and 20 <= age <= 40:\n",
    "    print(\"Can work anywhere\")\n",
    "elif gender == \"M\" and 40 < age <= 60:\n",
    "    print(\"Works only in urban areas\")\n",
    "else:\n",
    "    print(\"ERROR\")"
   ]
  },
  {
   "cell_type": "code",
   "execution_count": null,
   "id": "98ceccb5-a259-47fb-a2d9-bb403b66ce85",
   "metadata": {},
   "outputs": [],
   "source": [
    "# Write a program to calculate the electricity bill (accept number of unit from user) \n",
    "# according to the following criteria : Unit Price\n",
    "# uptp 100 units no charge Next 200 units Rs 5 per unit \n",
    "# After 200 units Rs 10 per unit (For example if input unit is 350 than total bill amount is Rs.3500 \n",
    "# (For example if input unit is 97 than total bill amount is Rs.0 (For example if input unit is 150 than total bill amount is Rs.750"
   ]
  },
  {
   "cell_type": "code",
   "execution_count": 53,
   "id": "99e50dc4-1557-480a-a875-61d077e730af",
   "metadata": {},
   "outputs": [
    {
     "name": "stdin",
     "output_type": "stream",
     "text": [
      "Enter units consumed:  300\n"
     ]
    },
    {
     "name": "stdout",
     "output_type": "stream",
     "text": [
      "Total Bill = Rs. 1000\n"
     ]
    }
   ],
   "source": [
    "units = int(input(\"Enter units consumed: \"))\n",
    "\n",
    "if units <= 100:\n",
    "    bill = 0\n",
    "elif units <= 300:\n",
    "    bill = (units - 100) * 5\n",
    "else:\n",
    "    bill = (200 * 5) + (units - 300) * 10\n",
    "\n",
    "print(\"Total Bill = Rs.\", bill)"
   ]
  },
  {
   "cell_type": "code",
   "execution_count": null,
   "id": "e7c993ad-fd13-4f99-8461-f266ef1e722e",
   "metadata": {},
   "outputs": [],
   "source": [
    "# Take input of age of 3 people by user and determine oldest and youngest among them"
   ]
  },
  {
   "cell_type": "code",
   "execution_count": 54,
   "id": "1fd915d8-9c9e-4621-838f-e939a6b0e233",
   "metadata": {},
   "outputs": [
    {
     "name": "stdin",
     "output_type": "stream",
     "text": [
      "Enter age of first person:  25\n",
      "Enter age of second person:  35\n",
      "Enter age of third person:  45\n"
     ]
    },
    {
     "name": "stdout",
     "output_type": "stream",
     "text": [
      "Oldest: 45\n",
      "Youngest: 25\n"
     ]
    }
   ],
   "source": [
    "a = int(input(\"Enter age of first person: \"))\n",
    "b = int(input(\"Enter age of second person: \"))\n",
    "c = int(input(\"Enter age of third person: \"))\n",
    "\n",
    "oldest = max(a, b, c)\n",
    "youngest = min(a, b, c)\n",
    "\n",
    "print(\"Oldest:\", oldest)\n",
    "print(\"Youngest:\", youngest)"
   ]
  },
  {
   "cell_type": "code",
   "execution_count": null,
   "id": "27367b0e-cba7-47f3-b776-19343fce06f2",
   "metadata": {},
   "outputs": [],
   "source": []
  }
 ],
 "metadata": {
  "kernelspec": {
   "display_name": "Python [conda env:base] *",
   "language": "python",
   "name": "conda-base-py"
  },
  "language_info": {
   "codemirror_mode": {
    "name": "ipython",
    "version": 3
   },
   "file_extension": ".py",
   "mimetype": "text/x-python",
   "name": "python",
   "nbconvert_exporter": "python",
   "pygments_lexer": "ipython3",
   "version": "3.13.5"
  }
 },
 "nbformat": 4,
 "nbformat_minor": 5
}
