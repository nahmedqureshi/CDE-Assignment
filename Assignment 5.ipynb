{
 "cells": [
  {
   "cell_type": "code",
   "execution_count": null,
   "id": "4a74a801-724e-4dad-8103-d86c60c3eaae",
   "metadata": {},
   "outputs": [],
   "source": [
    "# 1. Alternate elements\n",
    "lst = list(map(int, input(\"Enter list elements: \").split()))\n",
    "print(\"Alternate elements:\", lst[::2])\n",
    "\n",
    "\n",
    "\n",
    "\n",
    "\n",
    "\n",
    "\n",
    "\n",
    "\n",
    "\n",
    "\n",
    "\n",
    "\n",
    "\n",
    "\n",
    "\n",
    "\n"
   ]
  },
  {
   "cell_type": "code",
   "execution_count": 3,
   "id": "f9ec7ac5-8705-4c51-a150-3051ecaf5dc4",
   "metadata": {},
   "outputs": [
    {
     "name": "stdin",
     "output_type": "stream",
     "text": [
      "Enter list elements:  2 5 8 4 1\n"
     ]
    },
    {
     "name": "stdout",
     "output_type": "stream",
     "text": [
      "Reversed: [1, 4, 8, 5, 2]\n"
     ]
    }
   ],
   "source": [
    "# 2. Reverse list (no reverse())\n",
    "lst = list(map(int, input(\"Enter list elements: \").split()))\n",
    "rev = []\n",
    "for i in range(len(lst)-1, -1, -1):\n",
    "    rev.append(lst[i])\n",
    "print(\"Reversed:\", rev)"
   ]
  },
  {
   "cell_type": "code",
   "execution_count": 7,
   "id": "0c781265-3fa8-4190-b9c3-fc8205a99097",
   "metadata": {},
   "outputs": [
    {
     "name": "stdin",
     "output_type": "stream",
     "text": [
      "Enter list elements:  1 5 8 9 6\n"
     ]
    },
    {
     "name": "stdout",
     "output_type": "stream",
     "text": [
      "Largest: 9\n"
     ]
    }
   ],
   "source": [
    "# 3. Largest number without max()\n",
    "lst = list(map(int, input(\"Enter list elements: \").split()))\n",
    "largest = lst[0]\n",
    "for num in lst:\n",
    "    if num > largest:\n",
    "        largest = num\n",
    "print(\"Largest:\", largest)"
   ]
  },
  {
   "cell_type": "code",
   "execution_count": 8,
   "id": "ac53f15d-b920-4967-a21c-676180745662",
   "metadata": {},
   "outputs": [
    {
     "name": "stdin",
     "output_type": "stream",
     "text": [
      "Enter list elements:  2 7 6 9 3 0\n"
     ]
    },
    {
     "name": "stdout",
     "output_type": "stream",
     "text": [
      "Rotated: [7, 6, 9, 3, 0, 2]\n"
     ]
    }
   ],
   "source": [
    "# 4. Rotate list\n",
    "lst = list(map(int, input(\"Enter list elements: \").split()))\n",
    "rotated = lst[1:] + lst[:1]\n",
    "print(\"Rotated:\", rotated)"
   ]
  },
  {
   "cell_type": "code",
   "execution_count": 9,
   "id": "85e15494-c977-464d-9fd1-079bdeb726fa",
   "metadata": {},
   "outputs": [
    {
     "name": "stdin",
     "output_type": "stream",
     "text": [
      "Enter a sentence:  my name is noman ahmed qureshi\n",
      "Enter word to remove:  o\n"
     ]
    },
    {
     "name": "stdout",
     "output_type": "stream",
     "text": [
      "Updated string: my name is nman ahmed qureshi\n"
     ]
    }
   ],
   "source": [
    "# 5. Remove word from string\n",
    "s = input(\"Enter a sentence: \")\n",
    "word = input(\"Enter word to remove: \")\n",
    "print(\"Updated string:\", s.replace(word, \"\"))"
   ]
  },
  {
   "cell_type": "code",
   "execution_count": 10,
   "id": "9f88d3cd-510d-4860-a958-fe311c2bb370",
   "metadata": {},
   "outputs": [
    {
     "name": "stdin",
     "output_type": "stream",
     "text": [
      "Enter date (mm/dd/yyyy):  5/8/2025\n"
     ]
    },
    {
     "name": "stdout",
     "output_type": "stream",
     "text": [
      "May 8, 2025\n"
     ]
    }
   ],
   "source": [
    "# 6. Date format\n",
    "s = input(\"Enter date (mm/dd/yyyy): \")\n",
    "m, d, y = s.split(\"/\")\n",
    "months = [\"January\",\"February\",\"March\",\"April\",\"May\",\"June\",\"July\",\n",
    "          \"August\",\"September\",\"October\",\"November\",\"December\"]\n",
    "print(f\"{months[int(m)-1]} {int(d)}, {y}\")"
   ]
  },
  {
   "cell_type": "code",
   "execution_count": 11,
   "id": "6aa4f097-6688-4afe-a506-034e314fc693",
   "metadata": {},
   "outputs": [
    {
     "name": "stdin",
     "output_type": "stream",
     "text": [
      "Enter a sentence:  What are you doing?\n"
     ]
    },
    {
     "name": "stdout",
     "output_type": "stream",
     "text": [
      "What Are You Doing?\n"
     ]
    }
   ],
   "source": [
    "# 7. Capitalize each word\n",
    "s = input(\"Enter a sentence: \")\n",
    "words = s.split()\n",
    "new_s = \" \".join(word.capitalize() for word in words)\n",
    "print(new_s)"
   ]
  },
  {
   "cell_type": "code",
   "execution_count": 12,
   "id": "4021cc6a-5226-4f0f-9f0b-7d352c526c13",
   "metadata": {},
   "outputs": [
    {
     "name": "stdin",
     "output_type": "stream",
     "text": [
      "Enter rows:  2\n",
      "Enter cols:  4\n",
      "Enter row 1:  2 1 2\n",
      "Enter row 2:  3 6 3\n"
     ]
    },
    {
     "name": "stdout",
     "output_type": "stream",
     "text": [
      "Sum of row 1 = 5\n",
      "Sum of row 2 = 12\n"
     ]
    }
   ],
   "source": [
    "# 8. Sum of each row in matrix\n",
    "rows = int(input(\"Enter rows: \"))\n",
    "cols = int(input(\"Enter cols: \"))\n",
    "matrix = []\n",
    "for i in range(rows):\n",
    "    row = list(map(int, input(f\"Enter row {i+1}: \").split()))\n",
    "    matrix.append(row)\n",
    "\n",
    "for i in range(rows):\n",
    "    print(f\"Sum of row {i+1} =\", sum(matrix[i]))"
   ]
  },
  {
   "cell_type": "code",
   "execution_count": 13,
   "id": "efdc5842-7c32-46d6-a865-994607466571",
   "metadata": {},
   "outputs": [
    {
     "name": "stdin",
     "output_type": "stream",
     "text": [
      "Enter rows and cols:  2 2\n"
     ]
    },
    {
     "name": "stdout",
     "output_type": "stream",
     "text": [
      "Enter Matrix A:\n"
     ]
    },
    {
     "name": "stdin",
     "output_type": "stream",
     "text": [
      " 1 2\n",
      " 4 5\n"
     ]
    },
    {
     "name": "stdout",
     "output_type": "stream",
     "text": [
      "Enter Matrix B:\n"
     ]
    },
    {
     "name": "stdin",
     "output_type": "stream",
     "text": [
      " 7 8\n",
      " 9 6\n"
     ]
    },
    {
     "name": "stdout",
     "output_type": "stream",
     "text": [
      "Sum Matrix: [[8, 10], [13, 11]]\n"
     ]
    }
   ],
   "source": [
    "# 9. Add two matrices\n",
    "r, c = map(int, input(\"Enter rows and cols: \").split())\n",
    "A, B = [], []\n",
    "print(\"Enter Matrix A:\")\n",
    "for i in range(r):\n",
    "    A.append(list(map(int, input().split())))\n",
    "print(\"Enter Matrix B:\")\n",
    "for i in range(r):\n",
    "    B.append(list(map(int, input().split())))\n",
    "C = [[A[i][j] + B[i][j] for j in range(c)] for i in range(r)]\n",
    "print(\"Sum Matrix:\", C)"
   ]
  },
  {
   "cell_type": "code",
   "execution_count": 18,
   "id": "97bfaa54-f147-4c6c-901e-034d0b0b8ead",
   "metadata": {},
   "outputs": [],
   "source": [
    "# 10. Multiply two matrices\n"
   ]
  },
  {
   "cell_type": "code",
   "execution_count": null,
   "id": "e2acc31a-7342-42ba-8eb0-b0bc04789a62",
   "metadata": {},
   "outputs": [],
   "source": []
  }
 ],
 "metadata": {
  "kernelspec": {
   "display_name": "Python [conda env:base] *",
   "language": "python",
   "name": "conda-base-py"
  },
  "language_info": {
   "codemirror_mode": {
    "name": "ipython",
    "version": 3
   },
   "file_extension": ".py",
   "mimetype": "text/x-python",
   "name": "python",
   "nbconvert_exporter": "python",
   "pygments_lexer": "ipython3",
   "version": "3.13.5"
  }
 },
 "nbformat": 4,
 "nbformat_minor": 5
}
