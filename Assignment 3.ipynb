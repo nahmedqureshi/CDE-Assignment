{
 "cells": [
  {
   "cell_type": "code",
   "execution_count": 1,
   "id": "14d5a2ad-04dc-4b94-8fb1-bc531ab0562b",
   "metadata": {},
   "outputs": [
    {
     "name": "stdin",
     "output_type": "stream",
     "text": [
      "Enter a string:  My Name Is Noman\n"
     ]
    },
    {
     "name": "stdout",
     "output_type": "stream",
     "text": [
      "Number of vowels: 5\n"
     ]
    }
   ],
   "source": [
    "# 1. Count vowels in a string\n",
    "s = input(\"Enter a string: \")\n",
    "vowels = \"aeiouAEIOU\"\n",
    "count = 0\n",
    "for ch in s:\n",
    "    if ch in vowels:\n",
    "        count += 1\n",
    "print(\"Number of vowels:\", count)"
   ]
  },
  {
   "cell_type": "code",
   "execution_count": 2,
   "id": "248c9760-68d7-4e4e-a4b8-363c135aeba1",
   "metadata": {},
   "outputs": [
    {
     "name": "stdin",
     "output_type": "stream",
     "text": [
      "Enter a string:  Sylani mass IT Program\n"
     ]
    },
    {
     "name": "stdout",
     "output_type": "stream",
     "text": [
      "Uppercase: 4\n",
      "Lowercase: 15\n",
      "Digits: 0\n",
      "Whitespaces: 3\n"
     ]
    }
   ],
   "source": [
    "# 2. Count character types\n",
    "s = input(\"Enter a string: \")\n",
    "upper = lower = digits = spaces = 0\n",
    "\n",
    "for ch in s:\n",
    "    if ch.isupper():\n",
    "        upper += 1\n",
    "    elif ch.islower():\n",
    "        lower += 1\n",
    "    elif ch.isdigit():\n",
    "        digits += 1\n",
    "    elif ch.isspace():\n",
    "        spaces += 1\n",
    "\n",
    "print(\"Uppercase:\", upper)\n",
    "print(\"Lowercase:\", lower)\n",
    "print(\"Digits:\", digits)\n",
    "print(\"Whitespaces:\", spaces)"
   ]
  },
  {
   "cell_type": "code",
   "execution_count": 3,
   "id": "9776ed5c-5677-43e8-91e1-40531476eef6",
   "metadata": {},
   "outputs": [
    {
     "name": "stdin",
     "output_type": "stream",
     "text": [
      "Enter a string:  Facebook \n"
     ]
    },
    {
     "name": "stdout",
     "output_type": "stream",
     "text": [
      "New string:  acebookF\n"
     ]
    }
   ],
   "source": [
    "# 3. Swap first and last character\n",
    "s = input(\"Enter a string: \")\n",
    "if len(s) > 1:\n",
    "    new_s = s[-1] + s[1:-1] + s[0]\n",
    "else:\n",
    "    new_s = s\n",
    "print(\"New string:\", new_s)"
   ]
  },
  {
   "cell_type": "code",
   "execution_count": 4,
   "id": "e38c830c-8939-4359-80cf-579dd86cb979",
   "metadata": {},
   "outputs": [
    {
     "name": "stdin",
     "output_type": "stream",
     "text": [
      "Enter a string:  What is correct?\n"
     ]
    },
    {
     "name": "stdout",
     "output_type": "stream",
     "text": [
      "Reversed string: ?tcerroc si tahW\n"
     ]
    }
   ],
   "source": [
    "# 4. Reverse a string\n",
    "s = input(\"Enter a string: \")\n",
    "new_s = s[::-1]\n",
    "print(\"Reversed string:\", new_s)"
   ]
  },
  {
   "cell_type": "code",
   "execution_count": 5,
   "id": "9913ab3b-fb79-41cb-811d-8ff52ed31b82",
   "metadata": {},
   "outputs": [
    {
     "name": "stdin",
     "output_type": "stream",
     "text": [
      "Enter a string:  Correction\n"
     ]
    },
    {
     "name": "stdout",
     "output_type": "stream",
     "text": [
      "New string: orrectionC\n"
     ]
    }
   ],
   "source": [
    "# 5. Shift string left by 1\n",
    "s = input(\"Enter a string: \")\n",
    "new_s = s[1:] + s[0]\n",
    "print(\"New string:\", new_s)"
   ]
  },
  {
   "cell_type": "code",
   "execution_count": 6,
   "id": "58e4e656-a6b1-4656-a12a-603f9deeabe2",
   "metadata": {},
   "outputs": [
    {
     "name": "stdin",
     "output_type": "stream",
     "text": [
      "Enter full name (First Middle Last):  Noman Ahmed Qureshi\n"
     ]
    },
    {
     "name": "stdout",
     "output_type": "stream",
     "text": [
      "Initials: N. A. Q.\n"
     ]
    }
   ],
   "source": [
    "# 6. Print initials without split()\n",
    "name = input(\"Enter full name (First Middle Last): \")\n",
    "initials = \"\"\n",
    "take = True\n",
    "for ch in name:\n",
    "    if take and ch != \" \":\n",
    "        initials += ch.upper() + \". \"\n",
    "        take = False\n",
    "    if ch == \" \":\n",
    "        take = True\n",
    "print(\"Initials:\", initials.strip())"
   ]
  },
  {
   "cell_type": "code",
   "execution_count": 10,
   "id": "90dd7475-ed1f-4776-9b57-ca9e13b625b8",
   "metadata": {},
   "outputs": [
    {
     "name": "stdin",
     "output_type": "stream",
     "text": [
      "Enter a string:  NooN\n"
     ]
    },
    {
     "name": "stdout",
     "output_type": "stream",
     "text": [
      "NooN is a palindrome\n"
     ]
    }
   ],
   "source": [
    "# 7. Palindrome check\n",
    "s = input(\"Enter a string: \")\n",
    "is_palindrome = True\n",
    "for i in range(len(s)//2):\n",
    "    if s[i] != s[-i-1]:\n",
    "        is_palindrome = False\n",
    "        break\n",
    "\n",
    "if is_palindrome:\n",
    "    print(s, \"is a palindrome\")\n",
    "else:\n",
    "    print(s, \"is not a palindrome\")"
   ]
  },
  {
   "cell_type": "code",
   "execution_count": 11,
   "id": "4b27eea2-248a-4dff-beed-fcecf2effbf2",
   "metadata": {},
   "outputs": [
    {
     "name": "stdout",
     "output_type": "stream",
     "text": [
      "SHIFT\n",
      "HIFTS\n",
      "IFTSH\n",
      "FTSHI\n",
      "TSHIF\n"
     ]
    }
   ],
   "source": [
    "# 8. SHIFT pattern\n",
    "s = \"SHIFT\"\n",
    "for i in range(len(s)):\n",
    "    print(s[i:] + s[:i])"
   ]
  },
  {
   "cell_type": "code",
   "execution_count": 12,
   "id": "f414d3f0-be01-43d0-bb35-66ea96bae30c",
   "metadata": {},
   "outputs": [
    {
     "name": "stdin",
     "output_type": "stream",
     "text": [
      "Enter a password:  Ghijhg\n"
     ]
    },
    {
     "name": "stdout",
     "output_type": "stream",
     "text": [
      "Password is invalid\n"
     ]
    }
   ],
   "source": [
    "# 9. Password validation\n",
    "password = input(\"Enter a password: \")\n",
    "\n",
    "valid = True\n",
    "if len(password) < 8:\n",
    "    valid = False\n",
    "if not any(ch.isupper() for ch in password):\n",
    "    valid = False\n",
    "if not any(ch.islower() for ch in password):\n",
    "    valid = False\n",
    "if not any(ch.isdigit() for ch in password):\n",
    "    valid = False\n",
    "\n",
    "if valid:\n",
    "    print(\"Password is valid\")\n",
    "else:\n",
    "    print(\"Password is invalid\")"
   ]
  },
  {
   "cell_type": "code",
   "execution_count": null,
   "id": "2c199811-9b6f-4ea6-b666-6c5b93f0bac0",
   "metadata": {},
   "outputs": [],
   "source": []
  }
 ],
 "metadata": {
  "kernelspec": {
   "display_name": "Python [conda env:base] *",
   "language": "python",
   "name": "conda-base-py"
  },
  "language_info": {
   "codemirror_mode": {
    "name": "ipython",
    "version": 3
   },
   "file_extension": ".py",
   "mimetype": "text/x-python",
   "name": "python",
   "nbconvert_exporter": "python",
   "pygments_lexer": "ipython3",
   "version": "3.13.5"
  }
 },
 "nbformat": 4,
 "nbformat_minor": 5
}
