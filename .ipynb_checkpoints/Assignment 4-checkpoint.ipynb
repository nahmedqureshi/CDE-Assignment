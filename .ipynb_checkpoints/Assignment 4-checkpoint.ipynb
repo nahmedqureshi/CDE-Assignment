{
 "cells": [
  {
   "cell_type": "code",
   "execution_count": null,
   "id": "3383946b-7fcd-44ce-b04d-52ea3a7948c6",
   "metadata": {},
   "outputs": [],
   "source": [
    "# Write a program to print the number from 1 to 10 using a for loop"
   ]
  },
  {
   "cell_type": "code",
   "execution_count": 1,
   "id": "bcf625d8-c727-412b-8f01-02ded137023d",
   "metadata": {},
   "outputs": [
    {
     "name": "stdout",
     "output_type": "stream",
     "text": [
      "1\n",
      "2\n",
      "3\n",
      "4\n",
      "5\n",
      "6\n",
      "7\n",
      "8\n",
      "9\n",
      "10\n"
     ]
    }
   ],
   "source": [
    "for i in range(1, 11):\n",
    "    print(i)"
   ]
  },
  {
   "cell_type": "code",
   "execution_count": 2,
   "id": "2b995bb5-976e-423f-aa7e-cb0c4a4996ed",
   "metadata": {},
   "outputs": [],
   "source": [
    "# Write a python program to print the number from 20 to 1 using a while loop"
   ]
  },
  {
   "cell_type": "code",
   "execution_count": 1,
   "id": "9ecefe49-257c-4b33-9236-faebf94e5117",
   "metadata": {},
   "outputs": [
    {
     "name": "stdout",
     "output_type": "stream",
     "text": [
      "20\n",
      "19\n",
      "18\n",
      "17\n",
      "16\n",
      "15\n",
      "14\n",
      "13\n",
      "12\n",
      "11\n",
      "10\n",
      "9\n",
      "8\n",
      "7\n",
      "6\n",
      "5\n",
      "4\n",
      "3\n",
      "2\n",
      "1\n"
     ]
    }
   ],
   "source": [
    "i = 20\n",
    "while i >= 1:\n",
    "    print(i)\n",
    "    i -= 1"
   ]
  },
  {
   "cell_type": "code",
   "execution_count": null,
   "id": "1477e9b5-79cf-4fd3-8e0d-e53351c967a4",
   "metadata": {},
   "outputs": [],
   "source": [
    "# Write a program to print even numbers from 1 to 10"
   ]
  },
  {
   "cell_type": "code",
   "execution_count": 2,
   "id": "1af102d3-35bb-484b-b332-00ae88444d54",
   "metadata": {},
   "outputs": [
    {
     "name": "stdout",
     "output_type": "stream",
     "text": [
      "2\n",
      "4\n",
      "6\n",
      "8\n",
      "10\n"
     ]
    }
   ],
   "source": [
    "for i in range(2, 11, 2):\n",
    "    print(i)"
   ]
  },
  {
   "cell_type": "code",
   "execution_count": null,
   "id": "3f3aaf8b-cf7f-49d7-9840-92fa4e0ee273",
   "metadata": {},
   "outputs": [],
   "source": [
    "# Write a program tht prompts the user to eneter a number n and prints all the number from 1 to n"
   ]
  },
  {
   "cell_type": "code",
   "execution_count": 3,
   "id": "ffa83666-32ab-445b-9c4d-5351a6c55ff7",
   "metadata": {},
   "outputs": [
    {
     "name": "stdin",
     "output_type": "stream",
     "text": [
      "Enter a number:  5\n"
     ]
    },
    {
     "name": "stdout",
     "output_type": "stream",
     "text": [
      "1\n",
      "2\n",
      "3\n",
      "4\n",
      "5\n"
     ]
    }
   ],
   "source": [
    "n = int(input(\"Enter a number: \"))\n",
    "for i in range(1, n+1):\n",
    "    print(i)"
   ]
  },
  {
   "cell_type": "code",
   "execution_count": null,
   "id": "8e0c46bd-6222-4021-a561-982de69dd37f",
   "metadata": {},
   "outputs": [],
   "source": [
    "# Write a program that prompts the user to enter a number n,\n",
    "# and then prints all the odd number between 1 to n"
   ]
  },
  {
   "cell_type": "code",
   "execution_count": 4,
   "id": "51f062e4-1aa5-421e-9b8a-11d0d1c7ce76",
   "metadata": {},
   "outputs": [
    {
     "name": "stdin",
     "output_type": "stream",
     "text": [
      "Enter a number:  15\n"
     ]
    },
    {
     "name": "stdout",
     "output_type": "stream",
     "text": [
      "1\n",
      "3\n",
      "5\n",
      "7\n",
      "9\n",
      "11\n",
      "13\n",
      "15\n"
     ]
    }
   ],
   "source": [
    "n = int(input(\"Enter a number: \"))\n",
    "for i in range(1, n+1, 2):\n",
    "    print(i)"
   ]
  },
  {
   "cell_type": "code",
   "execution_count": null,
   "id": "d314ece5-32a8-410f-b3e5-f595017ee4c9",
   "metadata": {},
   "outputs": [],
   "source": [
    "# Write a program that prints 'Happy Birthday!' 5 times on screen"
   ]
  },
  {
   "cell_type": "code",
   "execution_count": 5,
   "id": "4448514f-d0f1-4871-be8d-0cd7146c418b",
   "metadata": {},
   "outputs": [
    {
     "name": "stdout",
     "output_type": "stream",
     "text": [
      "Happy Birthday!\n",
      "Happy Birthday!\n",
      "Happy Birthday!\n",
      "Happy Birthday!\n",
      "Happy Birthday!\n"
     ]
    }
   ],
   "source": [
    "for i in range(5):\n",
    "    print(\"Happy Birthday!\")"
   ]
  },
  {
   "cell_type": "code",
   "execution_count": 3,
   "id": "2febb1a7-3ae0-4800-83c5-ac42eb164873",
   "metadata": {},
   "outputs": [],
   "source": [
    "# Write a program that takes a number n as input\n",
    "#from the user and generates the first n term of the series formed by squaring the natural number"
   ]
  },
  {
   "cell_type": "code",
   "execution_count": 6,
   "id": "b238736b-1a7d-4c0e-9b8c-9e4d9fc62919",
   "metadata": {},
   "outputs": [
    {
     "name": "stdin",
     "output_type": "stream",
     "text": [
      "Enter a number:  4\n"
     ]
    },
    {
     "name": "stdout",
     "output_type": "stream",
     "text": [
      "1 4 9 16 "
     ]
    }
   ],
   "source": [
    "n = int(input(\"Enter a number: \"))\n",
    "for i in range(1, n+1):\n",
    "    print(i*i, end=\" \")"
   ]
  },
  {
   "cell_type": "code",
   "execution_count": 4,
   "id": "cadb712d-78b2-451a-97da-f877095c3d88",
   "metadata": {},
   "outputs": [],
   "source": [
    "# Write a program that prompts the user to input a number and prints its multiplication table"
   ]
  },
  {
   "cell_type": "code",
   "execution_count": 7,
   "id": "d526a326-5ddb-4cee-9d66-c41931d9f9bd",
   "metadata": {},
   "outputs": [
    {
     "name": "stdin",
     "output_type": "stream",
     "text": [
      "Enter a number:  6\n"
     ]
    },
    {
     "name": "stdout",
     "output_type": "stream",
     "text": [
      "6 x 1 = 6\n",
      "6 x 2 = 12\n",
      "6 x 3 = 18\n",
      "6 x 4 = 24\n",
      "6 x 5 = 30\n",
      "6 x 6 = 36\n",
      "6 x 7 = 42\n",
      "6 x 8 = 48\n",
      "6 x 9 = 54\n",
      "6 x 10 = 60\n"
     ]
    }
   ],
   "source": [
    "n = int(input(\"Enter a number: \"))\n",
    "for i in range(1, 11):\n",
    "    print(f\"{n} x {i} = {n*i}\")"
   ]
  },
  {
   "cell_type": "code",
   "execution_count": 5,
   "id": "3df7c9f7-b465-488f-b58a-49b5c76d9c96",
   "metadata": {},
   "outputs": [],
   "source": [
    "# Write a python program to print the first 8 terms of an arithmetic progression starting\n",
    "# with 3 and having a common difference of 4\n",
    "# The program should output the following sequence:\n",
    "# 3 7 11 15 19 23 27 31"
   ]
  },
  {
   "cell_type": "code",
   "execution_count": 14,
   "id": "7c998825-ebc9-44b8-8296-5a12690929ff",
   "metadata": {},
   "outputs": [
    {
     "name": "stdout",
     "output_type": "stream",
     "text": [
      "3 7 11 15 19 23 27 31 35 "
     ]
    }
   ],
   "source": [
    "a = 3; d = 4\n",
    "for i in range(9):\n",
    "    print(a + i*d, end=\" \")\n",
    "    "
   ]
  },
  {
   "cell_type": "code",
   "execution_count": 6,
   "id": "7f9059ac-59a7-4d52-8cd5-9da4bcfae720",
   "metadata": {},
   "outputs": [],
   "source": [
    "# Write a python program to print the first 6 terms of a geaometric sequence starting \n",
    "# with 2 and having a common ratio of 3"
   ]
  },
  {
   "cell_type": "code",
   "execution_count": 15,
   "id": "f1e092c4-8883-4b0d-8158-60d4e177648a",
   "metadata": {},
   "outputs": [
    {
     "name": "stdout",
     "output_type": "stream",
     "text": [
      "2 6 18 54 162 486 "
     ]
    }
   ],
   "source": [
    "a = 2; r = 3\n",
    "for i in range(6):\n",
    "    print(a * (r**i), end=\" \")"
   ]
  },
  {
   "cell_type": "code",
   "execution_count": 7,
   "id": "4d85fca2-8a6f-4ec6-b576-c937fbf34412",
   "metadata": {},
   "outputs": [],
   "source": [
    "# Write a program that asks the user for a positive integer vale, the program should\n",
    "# calculate the sum of all the integers from 1 up to the number entered. for example,\n",
    "# if the user enters 20, the loop will find the sum of 1,2,3,4,....,20."
   ]
  },
  {
   "cell_type": "code",
   "execution_count": 17,
   "id": "27495345-0d7c-4af0-afc6-4674e269fe7d",
   "metadata": {},
   "outputs": [
    {
     "name": "stdin",
     "output_type": "stream",
     "text": [
      "Enter a number:  15\n"
     ]
    },
    {
     "name": "stdout",
     "output_type": "stream",
     "text": [
      "Sum = 120\n"
     ]
    }
   ],
   "source": [
    "n = int(input(\"Enter a number: \"))\n",
    "s = 0\n",
    "for i in range(1, n+1):\n",
    "    s += i\n",
    "print(\"Sum =\", s)"
   ]
  },
  {
   "cell_type": "code",
   "execution_count": 8,
   "id": "137117ee-9682-417d-a1b0-efc50b28357a",
   "metadata": {},
   "outputs": [],
   "source": [
    "# Write a program that takes a positive integer N as inout and calculates the sum of the reciprocals\n",
    "# of all number from 1 up yo N. The program should display the final sum"
   ]
  },
  {
   "cell_type": "code",
   "execution_count": 18,
   "id": "9305dbee-f887-475e-a9ca-2bb05905aed6",
   "metadata": {},
   "outputs": [
    {
     "name": "stdin",
     "output_type": "stream",
     "text": [
      "Enter a number:  4\n"
     ]
    },
    {
     "name": "stdout",
     "output_type": "stream",
     "text": [
      "Sum of reciprocals = 2.08\n"
     ]
    }
   ],
   "source": [
    "n = int(input(\"Enter a number: \"))\n",
    "s = 0\n",
    "for i in range(1, n+1):\n",
    "    s += 1/i\n",
    "print(\"Sum of reciprocals =\", round(s, 2))"
   ]
  },
  {
   "cell_type": "code",
   "execution_count": 9,
   "id": "1b1281a0-61fb-490d-b7f2-044b20844625",
   "metadata": {},
   "outputs": [],
   "source": [
    "# Write a program that prompts the user to enter a number and repeats this process 5 times\n",
    "# the program should accumalte the number entered and then display the final running total."
   ]
  },
  {
   "cell_type": "code",
   "execution_count": 19,
   "id": "8e4f2beb-9501-482e-86b8-68245f4151c7",
   "metadata": {},
   "outputs": [
    {
     "name": "stdin",
     "output_type": "stream",
     "text": [
      "Enter a number:  2\n",
      "Enter a number:  4\n",
      "Enter a number:  1\n",
      "Enter a number:  2\n",
      "Enter a number:  2\n"
     ]
    },
    {
     "name": "stdout",
     "output_type": "stream",
     "text": [
      "Final total = 11\n"
     ]
    }
   ],
   "source": [
    "total = 0\n",
    "for i in range(5):\n",
    "    num = int(input(\"Enter a number: \"))\n",
    "    total += num\n",
    "print(\"Final total =\", total)"
   ]
  },
  {
   "cell_type": "code",
   "execution_count": 10,
   "id": "f0a823d7-05f0-458d-9fd3-29a2970ff214",
   "metadata": {},
   "outputs": [],
   "source": [
    "# Write a program that prompts the user to enter a positive integer and calculate its factorial.\n",
    "# The factorial of a positive integer n is denoted as n!. and is calculated by multiplying\n",
    "# all teh integers from 1 to n together. "
   ]
  },
  {
   "cell_type": "code",
   "execution_count": 22,
   "id": "8e409d67-65d6-45da-8c11-f69faabf5461",
   "metadata": {},
   "outputs": [
    {
     "name": "stdin",
     "output_type": "stream",
     "text": [
      "Enter a number:  6\n"
     ]
    },
    {
     "name": "stdout",
     "output_type": "stream",
     "text": [
      "Factorial = 720\n"
     ]
    }
   ],
   "source": [
    "n = int(input(\"Enter a number: \"))\n",
    "if n < 0:\n",
    "    print(\"Factorial not defined for negative numbers\")\n",
    "else:\n",
    "    fact = 1\n",
    "    for i in range(1, n+1):\n",
    "        fact *= i\n",
    "    print(\"Factorial =\", fact)"
   ]
  },
  {
   "cell_type": "code",
   "execution_count": 11,
   "id": "4b5e5532-7380-4679-92ef-0afa05fa6849",
   "metadata": {},
   "outputs": [],
   "source": [
    "# Write a python program that prompts the user to enter a base number and an exponent.\n",
    "# and then calculated the power of the base to the exponent. the program should not use the \n",
    "# exponentiation power (**) or the math.pow() function. the program should handle both positive\n",
    "# and negative exponents."
   ]
  },
  {
   "cell_type": "code",
   "execution_count": 25,
   "id": "db8bc11a-2f75-4724-966d-6ae044baf8cf",
   "metadata": {},
   "outputs": [
    {
     "name": "stdin",
     "output_type": "stream",
     "text": [
      "Enter base:  -6\n",
      "Enter exponent:  4\n"
     ]
    },
    {
     "name": "stdout",
     "output_type": "stream",
     "text": [
      "Result = 1296\n"
     ]
    }
   ],
   "source": [
    "base = int(input(\"Enter base: \"))\n",
    "exp = int(input(\"Enter exponent: \"))\n",
    "result = 1\n",
    "if exp >= 0:\n",
    "    for i in range(exp):\n",
    "        result *= base\n",
    "else:\n",
    "    for i in range(-exp):\n",
    "        result *= base\n",
    "    result = 1/result\n",
    "print(\"Result =\", result)"
   ]
  },
  {
   "cell_type": "code",
   "execution_count": null,
   "id": "108159b6-b1c5-4a72-a6cb-9ffd480a534b",
   "metadata": {},
   "outputs": [],
   "source": []
  }
 ],
 "metadata": {
  "kernelspec": {
   "display_name": "Python [conda env:base] *",
   "language": "python",
   "name": "conda-base-py"
  },
  "language_info": {
   "codemirror_mode": {
    "name": "ipython",
    "version": 3
   },
   "file_extension": ".py",
   "mimetype": "text/x-python",
   "name": "python",
   "nbconvert_exporter": "python",
   "pygments_lexer": "ipython3",
   "version": "3.13.5"
  }
 },
 "nbformat": 4,
 "nbformat_minor": 5
}
