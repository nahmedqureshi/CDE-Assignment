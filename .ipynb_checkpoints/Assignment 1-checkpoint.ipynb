{
 "cells": [
  {
   "cell_type": "markdown",
   "id": "d9071826-fadb-4644-843f-58578e8516cc",
   "metadata": {},
   "source": [
    "## Assignment 01"
   ]
  },
  {
   "cell_type": "code",
   "execution_count": 1,
   "id": "74f8a51e-bf3a-4bdc-a5b7-e6cb5821d9e1",
   "metadata": {},
   "outputs": [],
   "source": [
    "# Print Your Name with your Father name and Date of birth using suitable escape sequence charactor"
   ]
  },
  {
   "cell_type": "code",
   "execution_count": 23,
   "id": "400d231a-c4c1-4a6e-8c5f-8ac3e6162a49",
   "metadata": {},
   "outputs": [
    {
     "name": "stdout",
     "output_type": "stream",
     "text": [
      "Name:\tNoman Qureshi\n",
      "Father's Name:\tMr.Riaz Ahmed Qureshi\n",
      "Date of Birth:\t08-09-1987\n"
     ]
    }
   ],
   "source": [
    "print(\"Name:\\tNoman Qureshi\\nFather's Name:\\tMr.Riaz Ahmed Qureshi\\nDate of Birth:\\t08-09-1987\")"
   ]
  },
  {
   "cell_type": "code",
   "execution_count": 2,
   "id": "8b316c9f-f978-497d-83ff-580dce7ce0d9",
   "metadata": {},
   "outputs": [],
   "source": [
    "# Write your small bio using variables and print it using print function"
   ]
  },
  {
   "cell_type": "code",
   "execution_count": 24,
   "id": "eba2ef90-f9bb-4d45-9d31-d78819a1d5ad",
   "metadata": {},
   "outputs": [
    {
     "name": "stdout",
     "output_type": "stream",
     "text": [
      "My name is Noman Qureshi\n",
      "I am 36 years old\n",
      "I work as a Broadcast Engineer\n",
      "My hobby is Technology & Reading\n"
     ]
    }
   ],
   "source": [
    "name = \"Noman Qureshi\"\n",
    "age = 36\n",
    "profession = \"Broadcast Engineer\"\n",
    "hobby = \"Technology & Reading\"\n",
    "\n",
    "print(\"My name is\", name)\n",
    "print(\"I am\", age, \"years old\")\n",
    "print(\"I work as a\", profession)\n",
    "print(\"My hobby is\", hobby)"
   ]
  },
  {
   "cell_type": "code",
   "execution_count": 3,
   "id": "8d7eae92-1c9f-4621-832c-e654985b66d5",
   "metadata": {},
   "outputs": [],
   "source": [
    "# Write a program in which use all the operators we can use in Python"
   ]
  },
  {
   "cell_type": "code",
   "execution_count": 25,
   "id": "98f69061-7cc4-457f-bada-0f43566666de",
   "metadata": {},
   "outputs": [
    {
     "name": "stdout",
     "output_type": "stream",
     "text": [
      "Addition: 13\n",
      "Subtraction: 7\n",
      "Multiplication: 30\n",
      "Division: 3.3333333333333335\n",
      "Modulus: 1\n",
      "Exponent: 1000\n",
      "a > b: True\n",
      "a < b: False\n",
      "a == b: False\n",
      "a != b: True\n",
      "a > 5 and b < 5: True\n",
      "a > 15 or b < 5: True\n"
     ]
    }
   ],
   "source": [
    "a = 10\n",
    "b = 3\n",
    "\n",
    "# Arithmetic Operators\n",
    "print(\"Addition:\", a + b)\n",
    "print(\"Subtraction:\", a - b)\n",
    "print(\"Multiplication:\", a * b)\n",
    "print(\"Division:\", a / b)\n",
    "print(\"Modulus:\", a % b)\n",
    "print(\"Exponent:\", a ** b)\n",
    "\n",
    "# Comparison Operators\n",
    "print(\"a > b:\", a > b)\n",
    "print(\"a < b:\", a < b)\n",
    "print(\"a == b:\", a == b)\n",
    "print(\"a != b:\", a != b)\n",
    "\n",
    "# Logical Operators\n",
    "print(\"a > 5 and b < 5:\", a > 5 and b < 5)\n",
    "print(\"a > 15 or b < 5:\", a > 15 or b < 5)"
   ]
  },
  {
   "cell_type": "code",
   "execution_count": 6,
   "id": "963aafea-7bd5-448b-9f58-a15208367388",
   "metadata": {},
   "outputs": [
    {
     "name": "stdout",
     "output_type": "stream",
     "text": [
      "Enter numbers obtained in English out of 100\n"
     ]
    },
    {
     "name": "stdin",
     "output_type": "stream",
     "text": [
      "None 85\n"
     ]
    },
    {
     "name": "stdout",
     "output_type": "stream",
     "text": [
      "Enter numbers obtained in Islamiat out of 100\n"
     ]
    },
    {
     "name": "stdin",
     "output_type": "stream",
     "text": [
      "None 95\n"
     ]
    },
    {
     "name": "stdout",
     "output_type": "stream",
     "text": [
      "Enter numbers obtained in Maths out of 100\n"
     ]
    },
    {
     "name": "stdin",
     "output_type": "stream",
     "text": [
      "None 95\n"
     ]
    },
    {
     "name": "stdout",
     "output_type": "stream",
     "text": [
      "Total Marks: 300\n",
      "Obtained Marks: 275\n",
      "Percentage: 91.66666666666666 %\n"
     ]
    }
   ],
   "source": [
    "english = int(input(print(\"Enter numbers obtained in English out of 100\")))\n",
    "islamiat = int(input(print(\"Enter numbers obtained in Islamiat out of 100\")))\n",
    "maths = int(input(print(\"Enter numbers obtained in Maths out of 100\")))\n",
    "\n",
    "total_marks = 300\n",
    "obtained = english + islamiat + maths\n",
    "percentage = (obtained / total_marks) * 100\n",
    "\n",
    "print(\"Total Marks:\", total_marks)\n",
    "print(\"Obtained Marks:\", obtained)\n",
    "print(\"Percentage:\", percentage, \"%\")"
   ]
  },
  {
   "cell_type": "markdown",
   "id": "576169b5-9750-450d-9933-3786b14c4c1a",
   "metadata": {},
   "source": []
  }
 ],
 "metadata": {
  "kernelspec": {
   "display_name": "Python [conda env:base] *",
   "language": "python",
   "name": "conda-base-py"
  },
  "language_info": {
   "codemirror_mode": {
    "name": "ipython",
    "version": 3
   },
   "file_extension": ".py",
   "mimetype": "text/x-python",
   "name": "python",
   "nbconvert_exporter": "python",
   "pygments_lexer": "ipython3",
   "version": "3.13.5"
  }
 },
 "nbformat": 4,
 "nbformat_minor": 5
}
