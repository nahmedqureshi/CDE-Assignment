{
 "cells": [
  {
   "cell_type": "code",
   "execution_count": 1,
   "id": "5985c34e-9e90-4718-bd9d-f3392561a216",
   "metadata": {},
   "outputs": [],
   "source": [
    "# Write a program that accepts a list from user and print the alternate element of list"
   ]
  },
  {
   "cell_type": "code",
   "execution_count": 3,
   "id": "4a74a801-724e-4dad-8103-d86c60c3eaae",
   "metadata": {},
   "outputs": [
    {
     "name": "stdin",
     "output_type": "stream",
     "text": [
      "Enter list elements:  12 2 5 6 89\n"
     ]
    },
    {
     "name": "stdout",
     "output_type": "stream",
     "text": [
      "Alternate elements: [12, 5, 89]\n"
     ]
    }
   ],
   "source": [
    "lst = list(map(int, input(\"Enter list elements: \").split()))\n",
    "print(\"Alternate elements:\", lst[::2])"
   ]
  },
  {
   "cell_type": "code",
   "execution_count": 4,
   "id": "17dd6135-8055-4a6f-bf13-fcfbf49dc374",
   "metadata": {},
   "outputs": [],
   "source": [
    "# Write a program that accepts a list from user. Your program should reverse the content of list and\n",
    "# display it. Do not use reverse() method"
   ]
  },
  {
   "cell_type": "code",
   "execution_count": 3,
   "id": "f9ec7ac5-8705-4c51-a150-3051ecaf5dc4",
   "metadata": {},
   "outputs": [
    {
     "name": "stdin",
     "output_type": "stream",
     "text": [
      "Enter list elements:  2 5 8 4 1\n"
     ]
    },
    {
     "name": "stdout",
     "output_type": "stream",
     "text": [
      "Reversed: [1, 4, 8, 5, 2]\n"
     ]
    }
   ],
   "source": [
    "lst = list(map(int, input(\"Enter list elements: \").split()))\n",
    "rev = []\n",
    "for i in range(len(lst)-1, -1, -1):\n",
    "    rev.append(lst[i])\n",
    "print(\"Reversed:\", rev)"
   ]
  },
  {
   "cell_type": "code",
   "execution_count": 5,
   "id": "e63887c0-3ec7-4158-a8ea-c407f5006b97",
   "metadata": {},
   "outputs": [],
   "source": [
    "# Find and display the largest number of a list without using built-in function max(). Your program\n",
    "# should ask the user to input values in list from keyboard."
   ]
  },
  {
   "cell_type": "code",
   "execution_count": 7,
   "id": "0c781265-3fa8-4190-b9c3-fc8205a99097",
   "metadata": {},
   "outputs": [
    {
     "name": "stdin",
     "output_type": "stream",
     "text": [
      "Enter list elements:  1 5 8 9 6\n"
     ]
    },
    {
     "name": "stdout",
     "output_type": "stream",
     "text": [
      "Largest: 9\n"
     ]
    }
   ],
   "source": [
    "lst = list(map(int, input(\"Enter list elements: \").split()))\n",
    "largest = lst[0]\n",
    "for num in lst:\n",
    "    if num > largest:\n",
    "        largest = num\n",
    "print(\"Largest:\", largest)"
   ]
  },
  {
   "cell_type": "code",
   "execution_count": null,
   "id": "42074703-8e04-46a1-a8af-cf758cb72d80",
   "metadata": {},
   "outputs": [],
   "source": [
    "# Write a program that rotates the element of a list so that the element at the first index moves to the\n",
    "# second index, the element in the second index moves to the third index, etc., and the element in the last\n",
    "# index moves to the first index."
   ]
  },
  {
   "cell_type": "code",
   "execution_count": 8,
   "id": "ac53f15d-b920-4967-a21c-676180745662",
   "metadata": {},
   "outputs": [
    {
     "name": "stdin",
     "output_type": "stream",
     "text": [
      "Enter list elements:  2 7 6 9 3 0\n"
     ]
    },
    {
     "name": "stdout",
     "output_type": "stream",
     "text": [
      "Rotated: [7, 6, 9, 3, 0, 2]\n"
     ]
    }
   ],
   "source": [
    "lst = list(map(int, input(\"Enter list elements: \").split()))\n",
    "rotated = lst[1:] + lst[:1]\n",
    "print(\"Rotated:\", rotated)"
   ]
  },
  {
   "cell_type": "code",
   "execution_count": 6,
   "id": "a4d861fc-e3d2-46fd-b685-ae99d914f77f",
   "metadata": {},
   "outputs": [],
   "source": [
    "# Write a program that input a string and ask user to delete a given word from a string"
   ]
  },
  {
   "cell_type": "code",
   "execution_count": 9,
   "id": "85e15494-c977-464d-9fd1-079bdeb726fa",
   "metadata": {},
   "outputs": [
    {
     "name": "stdin",
     "output_type": "stream",
     "text": [
      "Enter a sentence:  my name is noman ahmed qureshi\n",
      "Enter word to remove:  o\n"
     ]
    },
    {
     "name": "stdout",
     "output_type": "stream",
     "text": [
      "Updated string: my name is nman ahmed qureshi\n"
     ]
    }
   ],
   "source": [
    "s = input(\"Enter a sentence: \")\n",
    "word = input(\"Enter word to remove: \")\n",
    "print(\"Updated string:\", s.replace(word, \"\"))"
   ]
  },
  {
   "cell_type": "code",
   "execution_count": null,
   "id": "fb20354a-8c02-40d9-a5de-deb3097e28cc",
   "metadata": {},
   "outputs": [],
   "source": [
    "# Write a program that reads a string from the user containing a date in the form mm/dd/yyyy. It\n",
    "# should print the date in the form March 12, 2021."
   ]
  },
  {
   "cell_type": "code",
   "execution_count": 10,
   "id": "9f88d3cd-510d-4860-a958-fe311c2bb370",
   "metadata": {},
   "outputs": [
    {
     "name": "stdin",
     "output_type": "stream",
     "text": [
      "Enter date (mm/dd/yyyy):  5/8/2025\n"
     ]
    },
    {
     "name": "stdout",
     "output_type": "stream",
     "text": [
      "May 8, 2025\n"
     ]
    }
   ],
   "source": [
    "s = input(\"Enter date (mm/dd/yyyy): \")\n",
    "m, d, y = s.split(\"/\")\n",
    "months = [\"January\",\"February\",\"March\",\"April\",\"May\",\"June\",\"July\",\n",
    "          \"August\",\"September\",\"October\",\"November\",\"December\"]\n",
    "print(f\"{months[int(m)-1]} {int(d)}, {y}\")"
   ]
  },
  {
   "cell_type": "code",
   "execution_count": null,
   "id": "17a0dac9-80d2-4f97-83b2-d654696f334e",
   "metadata": {},
   "outputs": [],
   "source": [
    "# Write a program with a function that accepts a string from keyboard and create a new string after\n",
    "# converting character of each word capitalized. For instance, if the sentence is \"stop and smell the roses.\"\n",
    "# the output should be \"Stop And Smell The Roses\""
   ]
  },
  {
   "cell_type": "code",
   "execution_count": 11,
   "id": "6aa4f097-6688-4afe-a506-034e314fc693",
   "metadata": {},
   "outputs": [
    {
     "name": "stdin",
     "output_type": "stream",
     "text": [
      "Enter a sentence:  What are you doing?\n"
     ]
    },
    {
     "name": "stdout",
     "output_type": "stream",
     "text": [
      "What Are You Doing?\n"
     ]
    }
   ],
   "source": [
    "s = input(\"Enter a sentence: \")\n",
    "words = s.split()\n",
    "new_s = \" \".join(word.capitalize() for word in words)\n",
    "print(new_s)"
   ]
  },
  {
   "cell_type": "code",
   "execution_count": 7,
   "id": "b1986778-23e8-464e-9707-ede3190295ad",
   "metadata": {},
   "outputs": [],
   "source": [
    "# Find the sum of each row of matrix of size m x n. For example for the following matrix output will be\n",
    "# like this :\n",
    "# Sum of row 1 = 32\n",
    "# Sum of row 2 = 31\n",
    "# Sum of row 3 = 63"
   ]
  },
  {
   "cell_type": "code",
   "execution_count": 12,
   "id": "4021cc6a-5226-4f0f-9f0b-7d352c526c13",
   "metadata": {},
   "outputs": [
    {
     "name": "stdin",
     "output_type": "stream",
     "text": [
      "Enter rows:  2\n",
      "Enter cols:  4\n",
      "Enter row 1:  2 1 2\n",
      "Enter row 2:  3 6 3\n"
     ]
    },
    {
     "name": "stdout",
     "output_type": "stream",
     "text": [
      "Sum of row 1 = 5\n",
      "Sum of row 2 = 12\n"
     ]
    }
   ],
   "source": [
    "rows = int(input(\"Enter rows: \"))\n",
    "cols = int(input(\"Enter cols: \"))\n",
    "matrix = []\n",
    "for i in range(rows):\n",
    "    row = list(map(int, input(f\"Enter row {i+1}: \").split()))\n",
    "    matrix.append(row)\n",
    "\n",
    "for i in range(rows):\n",
    "    print(f\"Sum of row {i+1} =\", sum(matrix[i]))"
   ]
  },
  {
   "cell_type": "code",
   "execution_count": null,
   "id": "6c8e63af-eabf-411f-909f-ebbe99153644",
   "metadata": {},
   "outputs": [],
   "source": [
    "# Write a program to add two matrices of size n x m."
   ]
  },
  {
   "cell_type": "code",
   "execution_count": null,
   "id": "efdc5842-7c32-46d6-a865-994607466571",
   "metadata": {},
   "outputs": [],
   "source": [
    "def add_matrices(A, B):\n",
    "    # Get dimensions\n",
    "    rows = len(A)\n",
    "    cols = len(A[0])\n",
    "\n",
    "    # Initialize result matrix\n",
    "    result = [[0 for _ in range(cols)] for _ in range(rows)]\n",
    "\n",
    "    # Perform addition\n",
    "    for i in range(rows):\n",
    "        for j in range(cols):\n",
    "            result[i][j] = A[i][j] + B[i][j]\n",
    "\n",
    "    return result\n",
    "\n",
    "result = add_matrices(A, B)"
   ]
  },
  {
   "cell_type": "code",
   "execution_count": 18,
   "id": "97bfaa54-f147-4c6c-901e-034d0b0b8ead",
   "metadata": {},
   "outputs": [],
   "source": [
    "# Write a program to multiply two matrices"
   ]
  },
  {
   "cell_type": "code",
   "execution_count": null,
   "id": "e2acc31a-7342-42ba-8eb0-b0bc04789a62",
   "metadata": {},
   "outputs": [],
   "source": [
    "def multiply_matrices(A, B):\n",
    "    rows_A = len(A)\n",
    "    cols_A = len(A[0])\n",
    "    rows_B = len(B)\n",
    "    cols_B = len(B[0])\n",
    "\n",
    "    if cols_A != rows_B:\n",
    "        raise ValueError(\"Cannot multiply: Number of columns in A must equal number of rows in B.\")\n",
    "\n",
    "    result = [[0 for _ in range(cols_B)] for _ in range(rows_A)]\n",
    "\n",
    "    for i in range(rows_A):\n",
    "        for j in range(cols_B):\n",
    "            for k in range(cols_A):\n",
    "                result[i][j] += A[i][k] * B[k][j]\n",
    "    \n",
    "    return result"
   ]
  },
  {
   "cell_type": "code",
   "execution_count": null,
   "id": "78af40a7-7b1b-4469-8faa-9b360e9b0c16",
   "metadata": {},
   "outputs": [],
   "source": []
  }
 ],
 "metadata": {
  "kernelspec": {
   "display_name": "Python [conda env:base] *",
   "language": "python",
   "name": "conda-base-py"
  },
  "language_info": {
   "codemirror_mode": {
    "name": "ipython",
    "version": 3
   },
   "file_extension": ".py",
   "mimetype": "text/x-python",
   "name": "python",
   "nbconvert_exporter": "python",
   "pygments_lexer": "ipython3",
   "version": "3.13.5"
  }
 },
 "nbformat": 4,
 "nbformat_minor": 5
}
