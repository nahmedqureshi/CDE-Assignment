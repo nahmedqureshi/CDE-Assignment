{
 "cells": [
  {
   "cell_type": "markdown",
   "metadata": {
    "id": "XLFr4w_7OFN7"
   },
   "source": [
    "1. Write a Python program to create a class representing a Circle. Include methods to calculate its area and perimeter."
   ]
  },
  {
   "cell_type": "code",
   "execution_count": 2,
   "metadata": {},
   "outputs": [
    {
     "name": "stdout",
     "output_type": "stream",
     "text": [
      "Area: 113.09733552923255\n",
      "Perimeter: 37.69911184307752\n"
     ]
    }
   ],
   "source": [
    "import math\n",
    "\n",
    "class Circle:\n",
    "    def __init__(self, radius):\n",
    "        self.radius = radius\n",
    "\n",
    "    def area(self):\n",
    "        return math.pi * (self.radius ** 2)\n",
    "\n",
    "    def perimeter(self):\n",
    "        return 2 * math.pi * self.radius\n",
    "\n",
    "circle = Circle(6)\n",
    "print('Area:', circle.area())\n",
    "print('Perimeter:', circle.perimeter())"
   ]
  },
  {
   "cell_type": "code",
   "execution_count": 3,
   "metadata": {},
   "outputs": [
    {
     "name": "stdin",
     "output_type": "stream",
     "text": [
      "Enter the radius of the circle:  5\n"
     ]
    },
    {
     "name": "stdout",
     "output_type": "stream",
     "text": [
      "\n",
      "Circle details:\n",
      "Radius: 5.00\n",
      "Area: 78.54\n",
      "Perimeter: 31.42\n"
     ]
    }
   ],
   "source": [
    "import math\n",
    "\n",
    "class Circle:\n",
    "    def __init__(self):\n",
    "        self.radius = 0.0\n",
    "\n",
    "    def take_input(self):\n",
    "        \"\"\"Prompts the user to enter the radius of the circle.\"\"\"\n",
    "        while True:\n",
    "            try:\n",
    "                radius_str = input(\"Enter the radius of the circle: \")\n",
    "                self.radius = float(radius_str)\n",
    "                if self.radius <= 0:\n",
    "                    print(\"Radius must be a positive number. Please try again.\")\n",
    "                else:\n",
    "                    break\n",
    "            except ValueError:\n",
    "                print(\"Invalid input. Please enter a numerical value for the radius.\")\n",
    "\n",
    "    def calculate_area(self):\n",
    "        \"\"\"Calculates and returns the area of the circle.\"\"\"\n",
    "        return math.pi * (self.radius ** 2)\n",
    "\n",
    "    def calculate_perimeter(self):\n",
    "        \"\"\"Calculates and returns the perimeter (circumference) of the circle.\"\"\"\n",
    "        return 2 * math.pi * self.radius\n",
    "\n",
    "if __name__ == \"__main__\":\n",
    "    my_circle = Circle()\n",
    "    my_circle.take_input()\n",
    "\n",
    "    area = my_circle.calculate_area()\n",
    "    perimeter = my_circle.calculate_perimeter()\n",
    "\n",
    "    print(f\"\\nCircle details:\")\n",
    "    print(f\"Radius: {my_circle.radius:.2f}\")\n",
    "    print(f\"Area: {area:.2f}\")\n",
    "    print(f\"Perimeter: {perimeter:.2f}\")"
   ]
  },
  {
   "cell_type": "markdown",
   "metadata": {
    "id": "CBPk4mH4OTCO"
   },
   "source": [
    "2. Write a Python program to create a person class. Include attributes like name, country and date of birth. Implement a method to determine the person's age.\n"
   ]
  },
  {
   "cell_type": "code",
   "execution_count": 2,
   "metadata": {},
   "outputs": [
    {
     "name": "stdin",
     "output_type": "stream",
     "text": [
      "Enter your name:  Noman Ahmed Qureshi\n",
      "Enter your country:  Pakistan\n",
      "Enter your date of birth (DD-MM-YYYY):  08-09-1982\n"
     ]
    },
    {
     "name": "stdout",
     "output_type": "stream",
     "text": [
      "\n",
      "--- Person Information ---\n",
      "Name: Noman Ahmed Qureshi\n",
      "Country: Pakistan\n",
      "Date of Birth: 1982-09-08\n",
      "Age: 43 years\n"
     ]
    }
   ],
   "source": [
    "from datetime import datetime\n",
    "\n",
    "class Person:\n",
    "    def __init__(self, name, country, date_of_birth):\n",
    "        self.name = name\n",
    "        self.country = country\n",
    "        self.date_of_birth = datetime.strptime(date_of_birth, \"%d-%m-%Y\")\n",
    "\n",
    "    def get_age(self):\n",
    "        today = datetime.today()\n",
    "        age = today.year - self.date_of_birth.year\n",
    "        if (today.month, today.day) < (self.date_of_birth.month, self.date_of_birth.day):\n",
    "            age -= 1\n",
    "        return age\n",
    "\n",
    "    def display_info(self):\n",
    "        print(\"\\n--- Person Information ---\")\n",
    "        print(f\"Name: {self.name}\")\n",
    "        print(f\"Country: {self.country}\")\n",
    "        print(f\"Date of Birth: {self.date_of_birth.date()}\")\n",
    "        print(f\"Age: {self.get_age()} years\")\n",
    "\n",
    "name = input(\"Enter your name: \")\n",
    "country = input(\"Enter your country: \")\n",
    "dob = input(\"Enter your date of birth (DD-MM-YYYY): \")\n",
    "\n",
    "person = Person(name, country, dob)\n",
    "\n",
    "person.display_info()"
   ]
  },
  {
   "cell_type": "markdown",
   "metadata": {},
   "source": [
    "3. Write a Python program to create a calculator class. Include methods for basic arithmetic operations."
   ]
  },
  {
   "cell_type": "code",
   "execution_count": 3,
   "metadata": {},
   "outputs": [
    {
     "name": "stdout",
     "output_type": "stream",
     "text": [
      "\n",
      "--- Calculator Menu ---\n",
      "1. Addition\n",
      "2. Subtraction\n",
      "3. Multiplication\n",
      "4. Division\n",
      "5. Exit\n"
     ]
    },
    {
     "name": "stdin",
     "output_type": "stream",
     "text": [
      "Enter your choice (1-5):  2\n",
      "Enter first number:  5\n",
      "Enter second number:  3\n"
     ]
    },
    {
     "name": "stdout",
     "output_type": "stream",
     "text": [
      "Result: 2.0\n",
      "\n",
      "--- Calculator Menu ---\n",
      "1. Addition\n",
      "2. Subtraction\n",
      "3. Multiplication\n",
      "4. Division\n",
      "5. Exit\n"
     ]
    },
    {
     "name": "stdin",
     "output_type": "stream",
     "text": [
      "Enter your choice (1-5):  4\n",
      "Enter first number:  365\n",
      "Enter second number:  6\n"
     ]
    },
    {
     "name": "stdout",
     "output_type": "stream",
     "text": [
      "Result: 60.833333333333336\n",
      "\n",
      "--- Calculator Menu ---\n",
      "1. Addition\n",
      "2. Subtraction\n",
      "3. Multiplication\n",
      "4. Division\n",
      "5. Exit\n"
     ]
    },
    {
     "name": "stdin",
     "output_type": "stream",
     "text": [
      "Enter your choice (1-5):  5\n"
     ]
    },
    {
     "name": "stdout",
     "output_type": "stream",
     "text": [
      "Exiting calculator... Goodbye!\n"
     ]
    }
   ],
   "source": [
    "def add(self, a, b):\n",
    "    return a + b\n",
    "\n",
    "def subtract(self, a, b):\n",
    "    return a - b\n",
    "\n",
    "  \n",
    "def multiply(self, a, b):\n",
    "    return a * b\n",
    "\n",
    "  \n",
    "def divide(self, a, b):\n",
    "    if b == 0:\n",
    "        return \"Error! Division by zero is not allowed.\"\n",
    "        return a / b\n",
    "\n",
    "\n",
    "\n",
    "if __name__ == \"__main__\":\n",
    "    calc = Calculator()\n",
    "\n",
    "    while True:\n",
    "        print(\"\\n--- Calculator Menu ---\")\n",
    "        print(\"1. Addition\")\n",
    "        print(\"2. Subtraction\")\n",
    "        print(\"3. Multiplication\")\n",
    "        print(\"4. Division\")\n",
    "        print(\"5. Exit\")\n",
    "\n",
    "        choice = input(\"Enter your choice (1-5): \")\n",
    "\n",
    "        if choice == \"5\":\n",
    "            print(\"Exiting calculator... Goodbye!\")\n",
    "            break\n",
    "\n",
    "        if choice in [\"1\", \"2\", \"3\", \"4\"]:\n",
    "            try:\n",
    "                num1 = float(input(\"Enter first number: \"))\n",
    "                num2 = float(input(\"Enter second number: \"))\n",
    "            except ValueError:\n",
    "                print(\"Invalid input! Please enter numbers only.\")\n",
    "                continue\n",
    "\n",
    "            if choice == \"1\":\n",
    "                print(\"Result:\", calc.add(num1, num2))\n",
    "            elif choice == \"2\":\n",
    "                print(\"Result:\", calc.subtract(num1, num2))\n",
    "            elif choice == \"3\":\n",
    "                print(\"Result:\", calc.multiply(num1, num2))\n",
    "            elif choice == \"4\":\n",
    "                print(\"Result:\", calc.divide(num1, num2))\n",
    "        else:\n",
    "            print(\"Invalid choice! Please try again.\")"
   ]
  },
  {
   "cell_type": "code",
   "execution_count": null,
   "metadata": {},
   "outputs": [],
   "source": []
  }
 ],
 "metadata": {
  "colab": {
   "provenance": []
  },
  "kernelspec": {
   "display_name": "Python [conda env:base] *",
   "language": "python",
   "name": "conda-base-py"
  },
  "language_info": {
   "codemirror_mode": {
    "name": "ipython",
    "version": 3
   },
   "file_extension": ".py",
   "mimetype": "text/x-python",
   "name": "python",
   "nbconvert_exporter": "python",
   "pygments_lexer": "ipython3",
   "version": "3.13.5"
  }
 },
 "nbformat": 4,
 "nbformat_minor": 4
}
