{
 "cells": [
  {
   "cell_type": "code",
   "execution_count": null,
   "id": "d1e12c0d-7b4f-41ea-b78d-c4f91a3a55e6",
   "metadata": {},
   "outputs": [],
   "source": [
    "# Write a program that accepts a string from user.\n",
    "# Your program should count and display number of vowels in that string"
   ]
  },
  {
   "cell_type": "code",
   "execution_count": 1,
   "id": "14d5a2ad-04dc-4b94-8fb1-bc531ab0562b",
   "metadata": {},
   "outputs": [
    {
     "name": "stdin",
     "output_type": "stream",
     "text": [
      "Enter a string:  My Name Is Noman\n"
     ]
    },
    {
     "name": "stdout",
     "output_type": "stream",
     "text": [
      "Number of vowels: 5\n"
     ]
    }
   ],
   "source": [
    "s = input(\"Enter a string: \")\n",
    "vowels = \"aeiouAEIOU\"\n",
    "count = 0\n",
    "for ch in s:\n",
    "    if ch in vowels:\n",
    "        count += 1\n",
    "print(\"Number of vowels:\", count)"
   ]
  },
  {
   "cell_type": "code",
   "execution_count": 1,
   "id": "1ac518ad-ed22-4e99-9dc6-58620a508da1",
   "metadata": {},
   "outputs": [],
   "source": [
    "# Write a program that reads a string from keyboars and display:\n",
    "# 1- The number of uppercase letters in the string\n",
    "# 2- The number of lowercase letters in the string\n",
    "# 3- The number of digits in the string\n",
    "# 4- The number of whitespace in the string"
   ]
  },
  {
   "cell_type": "code",
   "execution_count": 2,
   "id": "248c9760-68d7-4e4e-a4b8-363c135aeba1",
   "metadata": {},
   "outputs": [
    {
     "name": "stdin",
     "output_type": "stream",
     "text": [
      "Enter a string:  Sylani mass IT Program\n"
     ]
    },
    {
     "name": "stdout",
     "output_type": "stream",
     "text": [
      "Uppercase: 4\n",
      "Lowercase: 15\n",
      "Digits: 0\n",
      "Whitespaces: 3\n"
     ]
    }
   ],
   "source": [
    "s = input(\"Enter a string: \")\n",
    "upper = lower = digits = spaces = 0\n",
    "\n",
    "for ch in s:\n",
    "    if ch.isupper():\n",
    "        upper += 1\n",
    "    elif ch.islower():\n",
    "        lower += 1\n",
    "    elif ch.isdigit():\n",
    "        digits += 1\n",
    "    elif ch.isspace():\n",
    "        spaces += 1\n",
    "\n",
    "print(\"Uppercase:\", upper)\n",
    "print(\"Lowercase:\", lower)\n",
    "print(\"Digits:\", digits)\n",
    "print(\"Whitespaces:\", spaces)"
   ]
  },
  {
   "cell_type": "code",
   "execution_count": 2,
   "id": "88022df4-a130-4f62-a0c5-a62162220516",
   "metadata": {},
   "outputs": [],
   "source": [
    "# Write a python program that accepts a string from user.\n",
    "#Your Program should create and display a new string where the first and last character have been exchanged."
   ]
  },
  {
   "cell_type": "code",
   "execution_count": 3,
   "id": "9776ed5c-5677-43e8-91e1-40531476eef6",
   "metadata": {},
   "outputs": [
    {
     "name": "stdin",
     "output_type": "stream",
     "text": [
      "Enter a string:  Facebook \n"
     ]
    },
    {
     "name": "stdout",
     "output_type": "stream",
     "text": [
      "New string:  acebookF\n"
     ]
    }
   ],
   "source": [
    "s = input(\"Enter a string: \")\n",
    "if len(s) > 1:\n",
    "    new_s = s[-1] + s[1:-1] + s[0]\n",
    "else:\n",
    "    new_s = s\n",
    "print(\"New string:\", new_s)"
   ]
  },
  {
   "cell_type": "code",
   "execution_count": 3,
   "id": "6c7d196f-a133-464e-ab4e-90689ea4f2d3",
   "metadata": {},
   "outputs": [],
   "source": [
    "# Write a python program that accepts a string from user.\n",
    "# your program should create a new string in reverse of first string and display it"
   ]
  },
  {
   "cell_type": "code",
   "execution_count": 4,
   "id": "e38c830c-8939-4359-80cf-579dd86cb979",
   "metadata": {},
   "outputs": [
    {
     "name": "stdin",
     "output_type": "stream",
     "text": [
      "Enter a string:  What is correct?\n"
     ]
    },
    {
     "name": "stdout",
     "output_type": "stream",
     "text": [
      "Reversed string: ?tcerroc si tahW\n"
     ]
    }
   ],
   "source": [
    "s = input(\"Enter a string: \")\n",
    "new_s = s[::-1]\n",
    "print(\"Reversed string:\", new_s)"
   ]
  },
  {
   "cell_type": "code",
   "execution_count": 4,
   "id": "ffcb7818-9f17-46de-9941-791a5d62bb1f",
   "metadata": {},
   "outputs": [],
   "source": [
    "# Write a python program that accepts a string from user.\n",
    "# Your program should create a new string by shifting one position to leaft."
   ]
  },
  {
   "cell_type": "code",
   "execution_count": 5,
   "id": "9913ab3b-fb79-41cb-811d-8ff52ed31b82",
   "metadata": {},
   "outputs": [
    {
     "name": "stdin",
     "output_type": "stream",
     "text": [
      "Enter a string:  Correction\n"
     ]
    },
    {
     "name": "stdout",
     "output_type": "stream",
     "text": [
      "New string: orrectionC\n"
     ]
    }
   ],
   "source": [
    "s = input(\"Enter a string: \")\n",
    "new_s = s[1:] + s[0]\n",
    "print(\"New string:\", new_s)"
   ]
  },
  {
   "cell_type": "code",
   "execution_count": 5,
   "id": "895b878c-f4c6-4db4-a762-2d968fc59238",
   "metadata": {},
   "outputs": [],
   "source": [
    "# Write a program that ask the user to input his name and print its initals.\n",
    "# Assuming that the user always types first name, middle name and last name and does not include any unnecessary space"
   ]
  },
  {
   "cell_type": "code",
   "execution_count": 6,
   "id": "58e4e656-a6b1-4656-a12a-603f9deeabe2",
   "metadata": {},
   "outputs": [
    {
     "name": "stdin",
     "output_type": "stream",
     "text": [
      "Enter full name (First Middle Last):  Noman Ahmed Qureshi\n"
     ]
    },
    {
     "name": "stdout",
     "output_type": "stream",
     "text": [
      "Initials: N. A. Q.\n"
     ]
    }
   ],
   "source": [
    "name = input(\"Enter full name (First Middle Last): \")\n",
    "initials = \"\"\n",
    "take = True\n",
    "for ch in name:\n",
    "    if take and ch != \" \":\n",
    "        initials += ch.upper() + \". \"\n",
    "        take = False\n",
    "    if ch == \" \":\n",
    "        take = True\n",
    "print(\"Initials:\", initials.strip())"
   ]
  },
  {
   "cell_type": "code",
   "execution_count": null,
   "id": "45d35c0e-4290-4d3b-abf6-7348f1bb70f6",
   "metadata": {},
   "outputs": [],
   "source": [
    "# A palindrome is a string that reads the same backward as forward, For example, the word DAD, MADAM and RADAR are all palindromes,\n",
    "# Write a program that determines wether the string is a palindrom"
   ]
  },
  {
   "cell_type": "code",
   "execution_count": 9,
   "id": "90dd7475-ed1f-4776-9b57-ca9e13b625b8",
   "metadata": {},
   "outputs": [
    {
     "name": "stdin",
     "output_type": "stream",
     "text": [
      "Enter a string:  KAYAK\n"
     ]
    },
    {
     "name": "stdout",
     "output_type": "stream",
     "text": [
      "KAYAK is a palindrome\n"
     ]
    }
   ],
   "source": [
    "s = input(\"Enter a string: \")\n",
    "is_palindrome = True\n",
    "for i in range(len(s)//2):\n",
    "    if s[i] != s[-i-1]:\n",
    "        is_palindrome = False\n",
    "        break\n",
    "\n",
    "if is_palindrome:\n",
    "    print(s, \"is a palindrome\")\n",
    "else:\n",
    "    print(s, \"is not a palindrome\")"
   ]
  },
  {
   "cell_type": "code",
   "execution_count": null,
   "id": "47dad2e8-0b6f-4dad-882a-ca86620f70f7",
   "metadata": {},
   "outputs": [],
   "source": [
    "# write a program that display following utput:\n",
    "# SHIFT\n",
    "# HIFTS\n",
    "# IFTSH\n",
    "# FTSHI\n",
    "# TSHIF\n",
    "# SHIFT"
   ]
  },
  {
   "cell_type": "code",
   "execution_count": 11,
   "id": "4b27eea2-248a-4dff-beed-fcecf2effbf2",
   "metadata": {},
   "outputs": [
    {
     "name": "stdout",
     "output_type": "stream",
     "text": [
      "SHIFT\n",
      "HIFTS\n",
      "IFTSH\n",
      "FTSHI\n",
      "TSHIF\n"
     ]
    }
   ],
   "source": [
    "s = \"SHIFT\"\n",
    "for i in range(len(s)):\n",
    "    print(s[i:] + s[:i])"
   ]
  },
  {
   "cell_type": "code",
   "execution_count": null,
   "id": "63aecf0a-4256-4044-8910-6e5fae2b0c79",
   "metadata": {},
   "outputs": [],
   "source": [
    "# Write a program in python that accepts a string to setup a passwords. Your entered password must meet the following requirements.\n",
    "# The Password must be at least eight character long.\n",
    "# It must contain at leastone uppercaset letter\n",
    "# It must contain at leastone lowercaset letter\n",
    "# It must contain at least one numeric digit\n",
    "# your program should perform this validation."
   ]
  },
  {
   "cell_type": "code",
   "execution_count": 12,
   "id": "f414d3f0-be01-43d0-bb35-66ea96bae30c",
   "metadata": {},
   "outputs": [
    {
     "name": "stdin",
     "output_type": "stream",
     "text": [
      "Enter a password:  Ghijhg\n"
     ]
    },
    {
     "name": "stdout",
     "output_type": "stream",
     "text": [
      "Password is invalid\n"
     ]
    }
   ],
   "source": [
    "password = input(\"Enter a password: \")\n",
    "\n",
    "valid = True\n",
    "if len(password) < 8:\n",
    "    valid = False\n",
    "if not any(ch.isupper() for ch in password):\n",
    "    valid = False\n",
    "if not any(ch.islower() for ch in password):\n",
    "    valid = False\n",
    "if not any(ch.isdigit() for ch in password):\n",
    "    valid = False\n",
    "\n",
    "if valid:\n",
    "    print(\"Password is valid\")\n",
    "else:\n",
    "    print(\"Password is invalid\")"
   ]
  },
  {
   "cell_type": "code",
   "execution_count": null,
   "id": "2c199811-9b6f-4ea6-b666-6c5b93f0bac0",
   "metadata": {},
   "outputs": [],
   "source": []
  }
 ],
 "metadata": {
  "kernelspec": {
   "display_name": "Python [conda env:base] *",
   "language": "python",
   "name": "conda-base-py"
  },
  "language_info": {
   "codemirror_mode": {
    "name": "ipython",
    "version": 3
   },
   "file_extension": ".py",
   "mimetype": "text/x-python",
   "name": "python",
   "nbconvert_exporter": "python",
   "pygments_lexer": "ipython3",
   "version": "3.13.5"
  }
 },
 "nbformat": 4,
 "nbformat_minor": 5
}
